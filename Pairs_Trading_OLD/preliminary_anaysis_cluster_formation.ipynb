{
 "cells": [
  {
   "cell_type": "code",
   "execution_count": 3,
   "id": "6a9cc93d",
   "metadata": {},
   "outputs": [
    {
     "ename": "ModuleNotFoundError",
     "evalue": "No module named 'yfinance'",
     "output_type": "error",
     "traceback": [
      "\u001b[0;31m---------------------------------------------------------------------------\u001b[0m",
      "\u001b[0;31mModuleNotFoundError\u001b[0m                       Traceback (most recent call last)",
      "Cell \u001b[0;32mIn[3], line 3\u001b[0m\n\u001b[1;32m      1\u001b[0m \u001b[39mimport\u001b[39;00m \u001b[39mnumpy\u001b[39;00m \u001b[39mas\u001b[39;00m \u001b[39mnp\u001b[39;00m\n\u001b[1;32m      2\u001b[0m \u001b[39mimport\u001b[39;00m \u001b[39mpandas\u001b[39;00m \u001b[39mas\u001b[39;00m \u001b[39mpd\u001b[39;00m\n\u001b[0;32m----> 3\u001b[0m \u001b[39mimport\u001b[39;00m \u001b[39myfinance\u001b[39;00m \u001b[39mas\u001b[39;00m \u001b[39myf\u001b[39;00m\n\u001b[1;32m      4\u001b[0m \u001b[39mimport\u001b[39;00m \u001b[39mmatplotlib\u001b[39;00m\u001b[39m.\u001b[39;00m\u001b[39mpyplot\u001b[39;00m \u001b[39mas\u001b[39;00m \u001b[39mplt\u001b[39;00m\n\u001b[1;32m      5\u001b[0m \u001b[39mimport\u001b[39;00m \u001b[39mseaborn\u001b[39;00m \u001b[39mas\u001b[39;00m \u001b[39msns\u001b[39;00m\n",
      "\u001b[0;31mModuleNotFoundError\u001b[0m: No module named 'yfinance'"
     ]
    }
   ],
   "source": [
    "import numpy as np\n",
    "import pandas as pd\n",
    "import yfinance as yf\n",
    "import matplotlib.pyplot as plt\n",
    "import seaborn as sns\n",
    "sns.set_style(\"whitegrid\")"
   ]
  },
  {
   "cell_type": "code",
   "execution_count": null,
   "id": "a0afbdba",
   "metadata": {},
   "outputs": [
    {
     "name": "stdout",
     "output_type": "stream",
     "text": [
      "[*********************100%***********************]  1 of 1 completed\n",
      "[*********************100%***********************]  1 of 1 completed\n",
      "[*********************100%***********************]  1 of 1 completed\n",
      "[*********************100%***********************]  1 of 1 completed\n",
      "[*********************100%***********************]  1 of 1 completed\n",
      "[*********************100%***********************]  1 of 1 completed\n"
     ]
    },
    {
     "data": {
      "text/html": [
       "<div>\n",
       "<style scoped>\n",
       "    .dataframe tbody tr th:only-of-type {\n",
       "        vertical-align: middle;\n",
       "    }\n",
       "\n",
       "    .dataframe tbody tr th {\n",
       "        vertical-align: top;\n",
       "    }\n",
       "\n",
       "    .dataframe thead th {\n",
       "        text-align: right;\n",
       "    }\n",
       "</style>\n",
       "<table border=\"1\" class=\"dataframe\">\n",
       "  <thead>\n",
       "    <tr style=\"text-align: right;\">\n",
       "      <th></th>\n",
       "      <th>MSFT</th>\n",
       "      <th>DUK</th>\n",
       "      <th>UNH</th>\n",
       "      <th>XOM</th>\n",
       "      <th>COST</th>\n",
       "      <th>SPY</th>\n",
       "    </tr>\n",
       "    <tr>\n",
       "      <th>Date</th>\n",
       "      <th></th>\n",
       "      <th></th>\n",
       "      <th></th>\n",
       "      <th></th>\n",
       "      <th></th>\n",
       "      <th></th>\n",
       "    </tr>\n",
       "  </thead>\n",
       "  <tbody>\n",
       "    <tr>\n",
       "      <th>2022-12-23</th>\n",
       "      <td>236.631805</td>\n",
       "      <td>98.644386</td>\n",
       "      <td>525.215271</td>\n",
       "      <td>105.091942</td>\n",
       "      <td>459.172852</td>\n",
       "      <td>378.706665</td>\n",
       "    </tr>\n",
       "    <tr>\n",
       "      <th>2022-12-27</th>\n",
       "      <td>234.877380</td>\n",
       "      <td>99.295692</td>\n",
       "      <td>525.887512</td>\n",
       "      <td>106.552094</td>\n",
       "      <td>455.054047</td>\n",
       "      <td>377.213226</td>\n",
       "    </tr>\n",
       "    <tr>\n",
       "      <th>2022-12-28</th>\n",
       "      <td>232.468719</td>\n",
       "      <td>98.558182</td>\n",
       "      <td>522.388123</td>\n",
       "      <td>104.801842</td>\n",
       "      <td>449.585449</td>\n",
       "      <td>372.525269</td>\n",
       "    </tr>\n",
       "    <tr>\n",
       "      <th>2022-12-29</th>\n",
       "      <td>238.891769</td>\n",
       "      <td>99.458519</td>\n",
       "      <td>523.801697</td>\n",
       "      <td>105.594772</td>\n",
       "      <td>453.098877</td>\n",
       "      <td>379.230835</td>\n",
       "    </tr>\n",
       "    <tr>\n",
       "      <th>2022-12-30</th>\n",
       "      <td>237.712234</td>\n",
       "      <td>98.644386</td>\n",
       "      <td>524.098267</td>\n",
       "      <td>106.658455</td>\n",
       "      <td>453.069092</td>\n",
       "      <td>378.231934</td>\n",
       "    </tr>\n",
       "  </tbody>\n",
       "</table>\n",
       "</div>"
      ],
      "text/plain": [
       "                  MSFT        DUK         UNH         XOM        COST  \\\n",
       "Date                                                                    \n",
       "2022-12-23  236.631805  98.644386  525.215271  105.091942  459.172852   \n",
       "2022-12-27  234.877380  99.295692  525.887512  106.552094  455.054047   \n",
       "2022-12-28  232.468719  98.558182  522.388123  104.801842  449.585449   \n",
       "2022-12-29  238.891769  99.458519  523.801697  105.594772  453.098877   \n",
       "2022-12-30  237.712234  98.644386  524.098267  106.658455  453.069092   \n",
       "\n",
       "                   SPY  \n",
       "Date                    \n",
       "2022-12-23  378.706665  \n",
       "2022-12-27  377.213226  \n",
       "2022-12-28  372.525269  \n",
       "2022-12-29  379.230835  \n",
       "2022-12-30  378.231934  "
      ]
     },
     "execution_count": 91,
     "metadata": {},
     "output_type": "execute_result"
    }
   ],
   "source": [
    "df = pd.DataFrame()\n",
    "\n",
    "#stks = ['MSFT', 'DUK', 'UNH', 'XOM', 'COST','AAPL','GOOG','NIO','WBD','INTC', 'BAC','SPY']\n",
    "\n",
    "stks = ['MSFT', 'DUK', 'UNH', 'XOM', 'COST','SPY']\n",
    "\n",
    "for stk in stks:\n",
    "    market_data = yf.download(stk, start='2020-01-01', end='2022-12-31', interval='1d')\n",
    "    df[stk] = market_data[\"Adj Close\"]\n",
    "    # Set the index to a datetime object\n",
    "    \n",
    "\n",
    "    # Display the last five rows\n",
    "df.index = pd.to_datetime(market_data.index)\n",
    "df.tail()"
   ]
  },
  {
   "cell_type": "code",
   "execution_count": null,
   "id": "223f8adb",
   "metadata": {},
   "outputs": [],
   "source": [
    "df.to_csv('price.csv', index = False)"
   ]
  },
  {
   "cell_type": "code",
   "execution_count": null,
   "id": "985f40b3",
   "metadata": {},
   "outputs": [
    {
     "name": "stdout",
     "output_type": "stream",
     "text": [
      "(755, 6)\n"
     ]
    },
    {
     "data": {
      "text/html": [
       "<div>\n",
       "<style scoped>\n",
       "    .dataframe tbody tr th:only-of-type {\n",
       "        vertical-align: middle;\n",
       "    }\n",
       "\n",
       "    .dataframe tbody tr th {\n",
       "        vertical-align: top;\n",
       "    }\n",
       "\n",
       "    .dataframe thead th {\n",
       "        text-align: right;\n",
       "    }\n",
       "</style>\n",
       "<table border=\"1\" class=\"dataframe\">\n",
       "  <thead>\n",
       "    <tr style=\"text-align: right;\">\n",
       "      <th></th>\n",
       "      <th>MSFT</th>\n",
       "      <th>DUK</th>\n",
       "      <th>UNH</th>\n",
       "      <th>XOM</th>\n",
       "      <th>COST</th>\n",
       "      <th>SPY</th>\n",
       "    </tr>\n",
       "    <tr>\n",
       "      <th>Date</th>\n",
       "      <th></th>\n",
       "      <th></th>\n",
       "      <th></th>\n",
       "      <th></th>\n",
       "      <th></th>\n",
       "      <th></th>\n",
       "    </tr>\n",
       "  </thead>\n",
       "  <tbody>\n",
       "    <tr>\n",
       "      <th>2022-12-23</th>\n",
       "      <td>0.535263</td>\n",
       "      <td>0.996117</td>\n",
       "      <td>4.171509</td>\n",
       "      <td>2.707558</td>\n",
       "      <td>3.910370</td>\n",
       "      <td>2.165985</td>\n",
       "    </tr>\n",
       "    <tr>\n",
       "      <th>2022-12-27</th>\n",
       "      <td>-1.754425</td>\n",
       "      <td>0.651306</td>\n",
       "      <td>0.672241</td>\n",
       "      <td>1.460152</td>\n",
       "      <td>-4.118805</td>\n",
       "      <td>-1.493439</td>\n",
       "    </tr>\n",
       "    <tr>\n",
       "      <th>2022-12-28</th>\n",
       "      <td>-2.408661</td>\n",
       "      <td>-0.737511</td>\n",
       "      <td>-3.499390</td>\n",
       "      <td>-1.750252</td>\n",
       "      <td>-5.468597</td>\n",
       "      <td>-4.687958</td>\n",
       "    </tr>\n",
       "    <tr>\n",
       "      <th>2022-12-29</th>\n",
       "      <td>6.423050</td>\n",
       "      <td>0.900337</td>\n",
       "      <td>1.413574</td>\n",
       "      <td>0.792931</td>\n",
       "      <td>3.513428</td>\n",
       "      <td>6.705566</td>\n",
       "    </tr>\n",
       "    <tr>\n",
       "      <th>2022-12-30</th>\n",
       "      <td>-1.179535</td>\n",
       "      <td>-0.814133</td>\n",
       "      <td>0.296570</td>\n",
       "      <td>1.063683</td>\n",
       "      <td>-0.029785</td>\n",
       "      <td>-0.998901</td>\n",
       "    </tr>\n",
       "  </tbody>\n",
       "</table>\n",
       "</div>"
      ],
      "text/plain": [
       "                MSFT       DUK       UNH       XOM      COST       SPY\n",
       "Date                                                                  \n",
       "2022-12-23  0.535263  0.996117  4.171509  2.707558  3.910370  2.165985\n",
       "2022-12-27 -1.754425  0.651306  0.672241  1.460152 -4.118805 -1.493439\n",
       "2022-12-28 -2.408661 -0.737511 -3.499390 -1.750252 -5.468597 -4.687958\n",
       "2022-12-29  6.423050  0.900337  1.413574  0.792931  3.513428  6.705566\n",
       "2022-12-30 -1.179535 -0.814133  0.296570  1.063683 -0.029785 -0.998901"
      ]
     },
     "execution_count": 92,
     "metadata": {},
     "output_type": "execute_result"
    }
   ],
   "source": [
    "df_diff = df.diff().dropna()\n",
    "print(df_diff.shape)\n",
    "df_diff.tail()"
   ]
  },
  {
   "cell_type": "markdown",
   "id": "31892b50",
   "metadata": {},
   "source": [
    "## $\\beta$ calculation.  <br> \n",
    "$\\beta_i = \\frac{\\text{Cov}(R_{i,\\tilde{t}}, R_{mkt, \\tilde{t}})}{\\text{Var}(R_{mkt, \\tilde{t}})}$ where, $R_{i,\\tilde{t}}$ and $R_{mkt, \\tilde{t}}$ are raw returns of stock $i$ and benchmark market during the time window $\\tilde{t}$, repectively."
   ]
  },
  {
   "cell_type": "code",
   "execution_count": null,
   "id": "3af97e41",
   "metadata": {},
   "outputs": [
    {
     "name": "stdout",
     "output_type": "stream",
     "text": [
      "(696, 5)\n"
     ]
    }
   ],
   "source": [
    "beta_df = pd.DataFrame()\n",
    "\n",
    "beta_wdw = 60\n",
    "\n",
    "df_var = df_diff['SPY'].rolling(beta_wdw).var().dropna()\n",
    "\n",
    "for stk in stks[:-1]:\n",
    "    df_cov = df_diff[[stk, 'SPY']].rolling(beta_wdw).cov().dropna().unstack()[stk]['SPY']\n",
    "    betas = (df_cov/(df_var))\n",
    "    beta_df[stk+'_beta'] = betas\n",
    "    \n",
    "print(beta_df.shape)"
   ]
  },
  {
   "cell_type": "code",
   "execution_count": null,
   "id": "a80d21fb",
   "metadata": {},
   "outputs": [
    {
     "data": {
      "text/plain": [
       "<Axes: >"
      ]
     },
     "execution_count": 6,
     "metadata": {},
     "output_type": "execute_result"
    },
    {
     "data": {
      "image/png": "[encoded data removed]",
      "text/plain": [
       "<Figure size 1200x400 with 1 Axes>"
      ]
     },
     "metadata": {},
     "output_type": "display_data"
    }
   ],
   "source": [
    "plt.figure(figsize = (12,4))\n",
    "sns.boxplot(data=beta_df)"
   ]
  },
  {
   "cell_type": "code",
   "execution_count": null,
   "id": "6cce8ea0",
   "metadata": {
    "scrolled": true
   },
   "outputs": [
    {
     "name": "stdout",
     "output_type": "stream",
     "text": [
      "(696, 11)\n"
     ]
    },
    {
     "data": {
      "text/html": [
       "<div>\n",
       "<style scoped>\n",
       "    .dataframe tbody tr th:only-of-type {\n",
       "        vertical-align: middle;\n",
       "    }\n",
       "\n",
       "    .dataframe tbody tr th {\n",
       "        vertical-align: top;\n",
       "    }\n",
       "\n",
       "    .dataframe thead th {\n",
       "        text-align: right;\n",
       "    }\n",
       "</style>\n",
       "<table border=\"1\" class=\"dataframe\">\n",
       "  <thead>\n",
       "    <tr style=\"text-align: right;\">\n",
       "      <th></th>\n",
       "      <th>MSFT</th>\n",
       "      <th>DUK</th>\n",
       "      <th>UNH</th>\n",
       "      <th>XOM</th>\n",
       "      <th>COST</th>\n",
       "      <th>SPY</th>\n",
       "      <th>MSFT_beta</th>\n",
       "      <th>DUK_beta</th>\n",
       "      <th>UNH_beta</th>\n",
       "      <th>XOM_beta</th>\n",
       "      <th>COST_beta</th>\n",
       "    </tr>\n",
       "    <tr>\n",
       "      <th>Date</th>\n",
       "      <th></th>\n",
       "      <th></th>\n",
       "      <th></th>\n",
       "      <th></th>\n",
       "      <th></th>\n",
       "      <th></th>\n",
       "      <th></th>\n",
       "      <th></th>\n",
       "      <th></th>\n",
       "      <th></th>\n",
       "      <th></th>\n",
       "    </tr>\n",
       "  </thead>\n",
       "  <tbody>\n",
       "    <tr>\n",
       "      <th>2020-03-30</th>\n",
       "      <td>10.174805</td>\n",
       "      <td>2.804665</td>\n",
       "      <td>8.397461</td>\n",
       "      <td>0.452684</td>\n",
       "      <td>6.432892</td>\n",
       "      <td>7.805023</td>\n",
       "      <td>0.697443</td>\n",
       "      <td>0.288716</td>\n",
       "      <td>1.202248</td>\n",
       "      <td>0.143639</td>\n",
       "      <td>0.746432</td>\n",
       "    </tr>\n",
       "    <tr>\n",
       "      <th>2020-03-31</th>\n",
       "      <td>-2.434998</td>\n",
       "      <td>-2.212852</td>\n",
       "      <td>-1.806931</td>\n",
       "      <td>0.386827</td>\n",
       "      <td>-5.674957</td>\n",
       "      <td>-3.698608</td>\n",
       "      <td>0.697471</td>\n",
       "      <td>0.289638</td>\n",
       "      <td>1.200877</td>\n",
       "      <td>0.142982</td>\n",
       "      <td>0.748882</td>\n",
       "    </tr>\n",
       "    <tr>\n",
       "      <th>2020-04-01</th>\n",
       "      <td>-5.411102</td>\n",
       "      <td>-2.838959</td>\n",
       "      <td>-11.469208</td>\n",
       "      <td>-0.362144</td>\n",
       "      <td>1.563202</td>\n",
       "      <td>-11.001099</td>\n",
       "      <td>0.694777</td>\n",
       "      <td>0.289324</td>\n",
       "      <td>1.198516</td>\n",
       "      <td>0.139632</td>\n",
       "      <td>0.730822</td>\n",
       "    </tr>\n",
       "    <tr>\n",
       "      <th>2020-04-02</th>\n",
       "      <td>3.043747</td>\n",
       "      <td>1.560989</td>\n",
       "      <td>2.967148</td>\n",
       "      <td>2.362173</td>\n",
       "      <td>4.452850</td>\n",
       "      <td>5.386780</td>\n",
       "      <td>0.692938</td>\n",
       "      <td>0.289120</td>\n",
       "      <td>1.193095</td>\n",
       "      <td>0.142169</td>\n",
       "      <td>0.730466</td>\n",
       "    </tr>\n",
       "    <tr>\n",
       "      <th>2020-04-03</th>\n",
       "      <td>-1.381790</td>\n",
       "      <td>-2.890419</td>\n",
       "      <td>-10.413605</td>\n",
       "      <td>-0.979439</td>\n",
       "      <td>-2.681213</td>\n",
       "      <td>-3.452057</td>\n",
       "      <td>0.692473</td>\n",
       "      <td>0.290403</td>\n",
       "      <td>1.194401</td>\n",
       "      <td>0.142778</td>\n",
       "      <td>0.730247</td>\n",
       "    </tr>\n",
       "  </tbody>\n",
       "</table>\n",
       "</div>"
      ],
      "text/plain": [
       "                 MSFT       DUK        UNH       XOM      COST        SPY  \\\n",
       "Date                                                                        \n",
       "2020-03-30  10.174805  2.804665   8.397461  0.452684  6.432892   7.805023   \n",
       "2020-03-31  -2.434998 -2.212852  -1.806931  0.386827 -5.674957  -3.698608   \n",
       "2020-04-01  -5.411102 -2.838959 -11.469208 -0.362144  1.563202 -11.001099   \n",
       "2020-04-02   3.043747  1.560989   2.967148  2.362173  4.452850   5.386780   \n",
       "2020-04-03  -1.381790 -2.890419 -10.413605 -0.979439 -2.681213  -3.452057   \n",
       "\n",
       "            MSFT_beta  DUK_beta  UNH_beta  XOM_beta  COST_beta  \n",
       "Date                                                            \n",
       "2020-03-30   0.697443  0.288716  1.202248  0.143639   0.746432  \n",
       "2020-03-31   0.697471  0.289638  1.200877  0.142982   0.748882  \n",
       "2020-04-01   0.694777  0.289324  1.198516  0.139632   0.730822  \n",
       "2020-04-02   0.692938  0.289120  1.193095  0.142169   0.730466  \n",
       "2020-04-03   0.692473  0.290403  1.194401  0.142778   0.730247  "
      ]
     },
     "execution_count": 94,
     "metadata": {},
     "output_type": "execute_result"
    }
   ],
   "source": [
    "df1 = df_diff.join(beta_df, how = 'inner')\n",
    "print(df1.shape)\n",
    "df1.head()"
   ]
  },
  {
   "cell_type": "markdown",
   "id": "8f9041f5",
   "metadata": {},
   "source": [
    "## Residual calculation\n",
    "\n",
    "$R^{res}_{i,t}=R_{i,t}-\\beta_i R_{mkt,t}$"
   ]
  },
  {
   "cell_type": "code",
   "execution_count": null,
   "id": "486e2f74",
   "metadata": {},
   "outputs": [
    {
     "name": "stdout",
     "output_type": "stream",
     "text": [
      "(696, 5)\n"
     ]
    }
   ],
   "source": [
    "res_df = pd.DataFrame()\n",
    "for stk in stks[:-1]:\n",
    "    res_df[stk] = df1[stk]-df1[stk+\"_beta\"]*df1[\"SPY\"]\n",
    "    \n",
    "print(res_df.shape)"
   ]
  },
  {
   "cell_type": "code",
   "execution_count": null,
   "id": "b82fb183",
   "metadata": {},
   "outputs": [
    {
     "data": {
      "text/html": [
       "<div>\n",
       "<style scoped>\n",
       "    .dataframe tbody tr th:only-of-type {\n",
       "        vertical-align: middle;\n",
       "    }\n",
       "\n",
       "    .dataframe tbody tr th {\n",
       "        vertical-align: top;\n",
       "    }\n",
       "\n",
       "    .dataframe thead th {\n",
       "        text-align: right;\n",
       "    }\n",
       "</style>\n",
       "<table border=\"1\" class=\"dataframe\">\n",
       "  <thead>\n",
       "    <tr style=\"text-align: right;\">\n",
       "      <th></th>\n",
       "      <th>MSFT</th>\n",
       "      <th>DUK</th>\n",
       "      <th>UNH</th>\n",
       "      <th>XOM</th>\n",
       "      <th>COST</th>\n",
       "    </tr>\n",
       "    <tr>\n",
       "      <th>Date</th>\n",
       "      <th></th>\n",
       "      <th></th>\n",
       "      <th></th>\n",
       "      <th></th>\n",
       "      <th></th>\n",
       "    </tr>\n",
       "  </thead>\n",
       "  <tbody>\n",
       "    <tr>\n",
       "      <th>2020-03-30</th>\n",
       "      <td>4.740785</td>\n",
       "      <td>0.557557</td>\n",
       "      <td>-0.986244</td>\n",
       "      <td>-0.674554</td>\n",
       "      <td>0.606991</td>\n",
       "    </tr>\n",
       "    <tr>\n",
       "      <th>2020-03-31</th>\n",
       "      <td>0.145022</td>\n",
       "      <td>-1.154786</td>\n",
       "      <td>2.634712</td>\n",
       "      <td>0.924052</td>\n",
       "      <td>-2.905202</td>\n",
       "    </tr>\n",
       "    <tr>\n",
       "      <th>2020-04-01</th>\n",
       "      <td>2.236735</td>\n",
       "      <td>0.347879</td>\n",
       "      <td>1.715769</td>\n",
       "      <td>1.184689</td>\n",
       "      <td>9.603140</td>\n",
       "    </tr>\n",
       "    <tr>\n",
       "      <th>2020-04-02</th>\n",
       "      <td>-0.690405</td>\n",
       "      <td>0.003637</td>\n",
       "      <td>-3.459812</td>\n",
       "      <td>1.610939</td>\n",
       "      <td>0.517927</td>\n",
       "    </tr>\n",
       "    <tr>\n",
       "      <th>2020-04-03</th>\n",
       "      <td>1.010787</td>\n",
       "      <td>-1.909776</td>\n",
       "      <td>-6.290390</td>\n",
       "      <td>-0.490989</td>\n",
       "      <td>-0.160310</td>\n",
       "    </tr>\n",
       "    <tr>\n",
       "      <th>...</th>\n",
       "      <td>...</td>\n",
       "      <td>...</td>\n",
       "      <td>...</td>\n",
       "      <td>...</td>\n",
       "      <td>...</td>\n",
       "    </tr>\n",
       "    <tr>\n",
       "      <th>2022-12-23</th>\n",
       "      <td>-1.461522</td>\n",
       "      <td>0.658913</td>\n",
       "      <td>2.723551</td>\n",
       "      <td>2.286536</td>\n",
       "      <td>1.544425</td>\n",
       "    </tr>\n",
       "    <tr>\n",
       "      <th>2022-12-27</th>\n",
       "      <td>-0.376775</td>\n",
       "      <td>0.893065</td>\n",
       "      <td>1.667656</td>\n",
       "      <td>1.776821</td>\n",
       "      <td>-2.484839</td>\n",
       "    </tr>\n",
       "    <tr>\n",
       "      <th>2022-12-28</th>\n",
       "      <td>1.907407</td>\n",
       "      <td>-0.022812</td>\n",
       "      <td>-0.451711</td>\n",
       "      <td>-0.849662</td>\n",
       "      <td>-0.257323</td>\n",
       "    </tr>\n",
       "    <tr>\n",
       "      <th>2022-12-29</th>\n",
       "      <td>0.167923</td>\n",
       "      <td>-0.122934</td>\n",
       "      <td>-2.869763</td>\n",
       "      <td>-0.462567</td>\n",
       "      <td>-3.998690</td>\n",
       "    </tr>\n",
       "    <tr>\n",
       "      <th>2022-12-30</th>\n",
       "      <td>-0.247502</td>\n",
       "      <td>-0.670616</td>\n",
       "      <td>0.936338</td>\n",
       "      <td>1.262778</td>\n",
       "      <td>1.086180</td>\n",
       "    </tr>\n",
       "  </tbody>\n",
       "</table>\n",
       "<p>696 rows × 5 columns</p>\n",
       "</div>"
      ],
      "text/plain": [
       "                MSFT       DUK       UNH       XOM      COST\n",
       "Date                                                        \n",
       "2020-03-30  4.740785  0.557557 -0.986244 -0.674554  0.606991\n",
       "2020-03-31  0.145022 -1.154786  2.634712  0.924052 -2.905202\n",
       "2020-04-01  2.236735  0.347879  1.715769  1.184689  9.603140\n",
       "2020-04-02 -0.690405  0.003637 -3.459812  1.610939  0.517927\n",
       "2020-04-03  1.010787 -1.909776 -6.290390 -0.490989 -0.160310\n",
       "...              ...       ...       ...       ...       ...\n",
       "2022-12-23 -1.461522  0.658913  2.723551  2.286536  1.544425\n",
       "2022-12-27 -0.376775  0.893065  1.667656  1.776821 -2.484839\n",
       "2022-12-28  1.907407 -0.022812 -0.451711 -0.849662 -0.257323\n",
       "2022-12-29  0.167923 -0.122934 -2.869763 -0.462567 -3.998690\n",
       "2022-12-30 -0.247502 -0.670616  0.936338  1.262778  1.086180\n",
       "\n",
       "[696 rows x 5 columns]"
      ]
     },
     "execution_count": 182,
     "metadata": {},
     "output_type": "execute_result"
    }
   ],
   "source": [
    "res_df"
   ]
  },
  {
   "cell_type": "markdown",
   "id": "645703e8",
   "metadata": {},
   "source": [
    "## Correlation matrix calcuation\n",
    "\n",
    "We construct a correlation matrix using market residual returns matrix above. However, we should construct them with a rollwing window of size $w$ (look back days). For preliminary setup we construct one correlation matrix with first five days ($w=5$). "
   ]
  },
  {
   "cell_type": "code",
   "execution_count": null,
   "id": "26095d98",
   "metadata": {},
   "outputs": [
    {
     "data": {
      "text/html": [
       "<div>\n",
       "<style scoped>\n",
       "    .dataframe tbody tr th:only-of-type {\n",
       "        vertical-align: middle;\n",
       "    }\n",
       "\n",
       "    .dataframe tbody tr th {\n",
       "        vertical-align: top;\n",
       "    }\n",
       "\n",
       "    .dataframe thead th {\n",
       "        text-align: right;\n",
       "    }\n",
       "</style>\n",
       "<table border=\"1\" class=\"dataframe\">\n",
       "  <thead>\n",
       "    <tr style=\"text-align: right;\">\n",
       "      <th></th>\n",
       "      <th>MSFT</th>\n",
       "      <th>DUK</th>\n",
       "      <th>UNH</th>\n",
       "      <th>XOM</th>\n",
       "      <th>COST</th>\n",
       "    </tr>\n",
       "  </thead>\n",
       "  <tbody>\n",
       "    <tr>\n",
       "      <th>MSFT</th>\n",
       "      <td>1.000000</td>\n",
       "      <td>0.505384</td>\n",
       "      <td>0.162949</td>\n",
       "      <td>-0.667949</td>\n",
       "      <td>0.299742</td>\n",
       "    </tr>\n",
       "    <tr>\n",
       "      <th>DUK</th>\n",
       "      <td>0.505384</td>\n",
       "      <td>1.000000</td>\n",
       "      <td>0.400930</td>\n",
       "      <td>0.232365</td>\n",
       "      <td>0.531176</td>\n",
       "    </tr>\n",
       "    <tr>\n",
       "      <th>UNH</th>\n",
       "      <td>0.162949</td>\n",
       "      <td>0.400930</td>\n",
       "      <td>1.000000</td>\n",
       "      <td>0.389519</td>\n",
       "      <td>0.247123</td>\n",
       "    </tr>\n",
       "    <tr>\n",
       "      <th>XOM</th>\n",
       "      <td>-0.667949</td>\n",
       "      <td>0.232365</td>\n",
       "      <td>0.389519</td>\n",
       "      <td>1.000000</td>\n",
       "      <td>0.270885</td>\n",
       "    </tr>\n",
       "    <tr>\n",
       "      <th>COST</th>\n",
       "      <td>0.299742</td>\n",
       "      <td>0.531176</td>\n",
       "      <td>0.247123</td>\n",
       "      <td>0.270885</td>\n",
       "      <td>1.000000</td>\n",
       "    </tr>\n",
       "  </tbody>\n",
       "</table>\n",
       "</div>"
      ],
      "text/plain": [
       "          MSFT       DUK       UNH       XOM      COST\n",
       "MSFT  1.000000  0.505384  0.162949 -0.667949  0.299742\n",
       "DUK   0.505384  1.000000  0.400930  0.232365  0.531176\n",
       "UNH   0.162949  0.400930  1.000000  0.389519  0.247123\n",
       "XOM  -0.667949  0.232365  0.389519  1.000000  0.270885\n",
       "COST  0.299742  0.531176  0.247123  0.270885  1.000000"
      ]
     },
     "execution_count": 9,
     "metadata": {},
     "output_type": "execute_result"
    }
   ],
   "source": [
    "w = 5\n",
    "res_df[0:w].corr()"
   ]
  },
  {
   "cell_type": "markdown",
   "id": "5bc05a79",
   "metadata": {},
   "source": [
    "## 1) Spectral clustering method (the simplest approach in the article)\n",
    "\n",
    "Note this method does not conside the signs of the correlation matrix (unsigned spectral clustering algorithm).\n",
    "\n",
    "Consider the absolute correlation matrix as the graph adjacency matrix $A = |Corr(res\\_df)|$ and the graph deree matrix to be the diagonal matrix $D_{ii} = \\sum_{i=1}^{n}A_{ij}$. Laplacian matrix $L=D-A$."
   ]
  },
  {
   "cell_type": "code",
   "execution_count": null,
   "id": "53e686d3",
   "metadata": {},
   "outputs": [
    {
     "data": {
      "text/plain": [
       "array([[1.        , 0.50538362, 0.16294922, 0.66794875, 0.29974232],\n",
       "       [0.50538362, 1.        , 0.40093033, 0.23236536, 0.5311758 ],\n",
       "       [0.16294922, 0.40093033, 1.        , 0.38951934, 0.24712316],\n",
       "       [0.66794875, 0.23236536, 0.38951934, 1.        , 0.27088466],\n",
       "       [0.29974232, 0.5311758 , 0.24712316, 0.27088466, 1.        ]])"
      ]
     },
     "execution_count": 10,
     "metadata": {},
     "output_type": "execute_result"
    }
   ],
   "source": [
    "A = abs(res_df[0:w].corr().values)\n",
    "A"
   ]
  },
  {
   "cell_type": "code",
   "execution_count": null,
   "id": "1121e8d3",
   "metadata": {},
   "outputs": [
    {
     "data": {
      "text/plain": [
       "array([[2.63602391, 0.        , 0.        , 0.        , 0.        ],\n",
       "       [0.        , 2.6698551 , 0.        , 0.        , 0.        ],\n",
       "       [0.        , 0.        , 2.20052205, 0.        , 0.        ],\n",
       "       [0.        , 0.        , 0.        , 2.5607181 , 0.        ],\n",
       "       [0.        , 0.        , 0.        , 0.        , 2.34892593]])"
      ]
     },
     "execution_count": 11,
     "metadata": {},
     "output_type": "execute_result"
    }
   ],
   "source": [
    "D = np.diag(A.sum(axis=1))\n",
    "D"
   ]
  },
  {
   "cell_type": "code",
   "execution_count": null,
   "id": "85af8461",
   "metadata": {},
   "outputs": [
    {
     "data": {
      "text/plain": [
       "array([[ 1.63602391, -0.50538362, -0.16294922, -0.66794875, -0.29974232],\n",
       "       [-0.50538362,  1.6698551 , -0.40093033, -0.23236536, -0.5311758 ],\n",
       "       [-0.16294922, -0.40093033,  1.20052205, -0.38951934, -0.24712316],\n",
       "       [-0.66794875, -0.23236536, -0.38951934,  1.5607181 , -0.27088466],\n",
       "       [-0.29974232, -0.5311758 , -0.24712316, -0.27088466,  1.34892593]])"
      ]
     },
     "execution_count": 12,
     "metadata": {},
     "output_type": "execute_result"
    }
   ],
   "source": [
    "L = D - A\n",
    "L"
   ]
  },
  {
   "attachments": {
    "Screenshot%202023-11-10%20at%208.51.58%20PM.png": {
     "image/png": "[encoded data removed]"
    }
   },
   "cell_type": "markdown",
   "id": "ed9ed0a8",
   "metadata": {},
   "source": [
    "![Screenshot%202023-11-10%20at%208.51.58%20PM.png](attachment:Screenshot%202023-11-10%20at%208.51.58%20PM.png)"
   ]
  },
  {
   "cell_type": "code",
   "execution_count": null,
   "id": "1b7da940",
   "metadata": {},
   "outputs": [],
   "source": [
    "from numpy import linalg as LA"
   ]
  },
  {
   "cell_type": "code",
   "execution_count": null,
   "id": "2becaefd",
   "metadata": {},
   "outputs": [],
   "source": [
    "eigenvalues, eigenvectors = LA.eig(L)"
   ]
  },
  {
   "cell_type": "code",
   "execution_count": null,
   "id": "416fff4a",
   "metadata": {},
   "outputs": [
    {
     "data": {
      "text/plain": [
       "array([4.44089210e-16, 2.42301749e+00, 2.00919171e+00, 1.53793259e+00,\n",
       "       1.44590332e+00])"
      ]
     },
     "execution_count": 15,
     "metadata": {},
     "output_type": "execute_result"
    }
   ],
   "source": [
    "eigenvalues"
   ]
  },
  {
   "cell_type": "code",
   "execution_count": null,
   "id": "ecb23c4e",
   "metadata": {},
   "outputs": [
    {
     "data": {
      "text/plain": [
       "array([[ 0.4472136 ,  0.65503083,  0.27996642,  0.41571195,  0.34603034],\n",
       "       [ 0.4472136 , -0.49279287,  0.69191033, -0.25906916,  0.10629417],\n",
       "       [ 0.4472136 ,  0.20925478, -0.03235282, -0.06790465, -0.86634559],\n",
       "       [ 0.4472136 , -0.51384606, -0.45427683,  0.56862297,  0.0791373 ],\n",
       "       [ 0.4472136 ,  0.14235332, -0.4852471 , -0.65736111,  0.33488379]])"
      ]
     },
     "execution_count": 16,
     "metadata": {},
     "output_type": "execute_result"
    }
   ],
   "source": [
    "eigenvectors"
   ]
  },
  {
   "cell_type": "code",
   "execution_count": null,
   "id": "890a5e14",
   "metadata": {},
   "outputs": [
    {
     "data": {
      "text/plain": [
       "(5, 5)"
      ]
     },
     "execution_count": 17,
     "metadata": {},
     "output_type": "execute_result"
    }
   ],
   "source": [
    "eigenvectors.shape"
   ]
  },
  {
   "cell_type": "code",
   "execution_count": null,
   "id": "8db0e9c7",
   "metadata": {},
   "outputs": [
    {
     "data": {
      "text/plain": [
       "array([[ 0.4472136 ,  0.65503083],\n",
       "       [ 0.4472136 , -0.49279287],\n",
       "       [ 0.4472136 ,  0.20925478],\n",
       "       [ 0.4472136 , -0.51384606],\n",
       "       [ 0.4472136 ,  0.14235332]])"
      ]
     },
     "execution_count": 18,
     "metadata": {},
     "output_type": "execute_result"
    }
   ],
   "source": [
    "#number of clusters K\n",
    "K = 2\n",
    "X = eigenvectors[:,:K]\n",
    "X"
   ]
  },
  {
   "cell_type": "code",
   "execution_count": null,
   "id": "adda97c7",
   "metadata": {},
   "outputs": [],
   "source": [
    "from sklearn.cluster import \\\n",
    "     (KMeans,\n",
    "      AgglomerativeClustering)\n",
    "from scipy.cluster.hierarchy import \\\n",
    "     (dendrogram,\n",
    "      cut_tree)\n",
    "from ISLP.cluster import compute_linkage"
   ]
  },
  {
   "cell_type": "code",
   "execution_count": null,
   "id": "1a4ae98e",
   "metadata": {},
   "outputs": [],
   "source": [
    "kmeans = KMeans(n_clusters=K,\n",
    "                random_state=2,\n",
    "                n_init=20).fit(X)"
   ]
  },
  {
   "cell_type": "code",
   "execution_count": null,
   "id": "1dc2a7ed",
   "metadata": {},
   "outputs": [
    {
     "data": {
      "text/plain": [
       "array([0, 1, 0, 1, 0], dtype=int32)"
      ]
     },
     "execution_count": 21,
     "metadata": {},
     "output_type": "execute_result"
    }
   ],
   "source": [
    "kmeans.labels_"
   ]
  },
  {
   "cell_type": "code",
   "execution_count": null,
   "id": "8856b0cb",
   "metadata": {},
   "outputs": [
    {
     "data": {
      "image/png": "[encoded data removed]",
      "text/plain": [
       "<Figure size 800x400 with 1 Axes>"
      ]
     },
     "metadata": {},
     "output_type": "display_data"
    }
   ],
   "source": [
    "fig, ax = plt.subplots(1, 1, figsize=(8,4))\n",
    "ax.scatter(X[:,0], X[:,1], c=kmeans.labels_)\n",
    "for i, label in enumerate(res_df.columns):\n",
    "    plt.annotate(label, (X[:,0][i], X[:,1][i]))\n",
    "ax.set_title(\"K-Means Clustering Results with K=2\");"
   ]
  },
  {
   "cell_type": "code",
   "execution_count": null,
   "id": "468aeed3",
   "metadata": {},
   "outputs": [],
   "source": [
    "df_clus = pd.DataFrame()\n",
    "df_clus[\"stock\"] = df.columns[:-1]\n",
    "df_clus[\"clusters\"] = kmeans.labels_"
   ]
  },
  {
   "cell_type": "code",
   "execution_count": null,
   "id": "0363a083",
   "metadata": {},
   "outputs": [],
   "source": [
    "df_clus.to_csv('clusters.csv', index = False)"
   ]
  },
  {
   "cell_type": "markdown",
   "id": "8bc98f53",
   "metadata": {},
   "source": [
    "## checking the behavior of winners and losers"
   ]
  },
  {
   "cell_type": "code",
   "execution_count": null,
   "id": "66995d19",
   "metadata": {},
   "outputs": [
    {
     "data": {
      "text/html": [
       "<div>\n",
       "<style scoped>\n",
       "    .dataframe tbody tr th:only-of-type {\n",
       "        vertical-align: middle;\n",
       "    }\n",
       "\n",
       "    .dataframe tbody tr th {\n",
       "        vertical-align: top;\n",
       "    }\n",
       "\n",
       "    .dataframe thead th {\n",
       "        text-align: right;\n",
       "    }\n",
       "</style>\n",
       "<table border=\"1\" class=\"dataframe\">\n",
       "  <thead>\n",
       "    <tr style=\"text-align: right;\">\n",
       "      <th></th>\n",
       "      <th>MSFT</th>\n",
       "      <th>DUK</th>\n",
       "      <th>UNH</th>\n",
       "      <th>XOM</th>\n",
       "      <th>COST</th>\n",
       "      <th>SPY</th>\n",
       "    </tr>\n",
       "    <tr>\n",
       "      <th>Date</th>\n",
       "      <th></th>\n",
       "      <th></th>\n",
       "      <th></th>\n",
       "      <th></th>\n",
       "      <th></th>\n",
       "      <th></th>\n",
       "    </tr>\n",
       "  </thead>\n",
       "  <tbody>\n",
       "    <tr>\n",
       "      <th>2020-01-02</th>\n",
       "      <td>154.779526</td>\n",
       "      <td>77.624222</td>\n",
       "      <td>276.971954</td>\n",
       "      <td>57.528828</td>\n",
       "      <td>275.580139</td>\n",
       "      <td>306.295258</td>\n",
       "    </tr>\n",
       "    <tr>\n",
       "      <th>2020-01-03</th>\n",
       "      <td>152.852234</td>\n",
       "      <td>77.675797</td>\n",
       "      <td>274.168976</td>\n",
       "      <td>57.066322</td>\n",
       "      <td>275.807007</td>\n",
       "      <td>303.975952</td>\n",
       "    </tr>\n",
       "    <tr>\n",
       "      <th>2020-01-06</th>\n",
       "      <td>153.247345</td>\n",
       "      <td>78.053856</td>\n",
       "      <td>276.072296</td>\n",
       "      <td>57.504490</td>\n",
       "      <td>275.882629</td>\n",
       "      <td>305.135651</td>\n",
       "    </tr>\n",
       "    <tr>\n",
       "      <th>2020-01-07</th>\n",
       "      <td>151.850052</td>\n",
       "      <td>77.564079</td>\n",
       "      <td>274.405792</td>\n",
       "      <td>57.033878</td>\n",
       "      <td>275.447784</td>\n",
       "      <td>304.277679</td>\n",
       "    </tr>\n",
       "    <tr>\n",
       "      <th>2020-01-08</th>\n",
       "      <td>154.268768</td>\n",
       "      <td>77.675797</td>\n",
       "      <td>280.191345</td>\n",
       "      <td>56.173782</td>\n",
       "      <td>278.605469</td>\n",
       "      <td>305.899353</td>\n",
       "    </tr>\n",
       "  </tbody>\n",
       "</table>\n",
       "</div>"
      ],
      "text/plain": [
       "                  MSFT        DUK         UNH        XOM        COST  \\\n",
       "Date                                                                   \n",
       "2020-01-02  154.779526  77.624222  276.971954  57.528828  275.580139   \n",
       "2020-01-03  152.852234  77.675797  274.168976  57.066322  275.807007   \n",
       "2020-01-06  153.247345  78.053856  276.072296  57.504490  275.882629   \n",
       "2020-01-07  151.850052  77.564079  274.405792  57.033878  275.447784   \n",
       "2020-01-08  154.268768  77.675797  280.191345  56.173782  278.605469   \n",
       "\n",
       "                   SPY  \n",
       "Date                    \n",
       "2020-01-02  306.295258  \n",
       "2020-01-03  303.975952  \n",
       "2020-01-06  305.135651  \n",
       "2020-01-07  304.277679  \n",
       "2020-01-08  305.899353  "
      ]
     },
     "execution_count": 24,
     "metadata": {},
     "output_type": "execute_result"
    }
   ],
   "source": [
    "df[0:w]\n",
    "#formed cluster on 2020-01-08 is [0, 1, 0, 1, 0]"
   ]
  },
  {
   "cell_type": "code",
   "execution_count": null,
   "id": "ac4d20d3",
   "metadata": {},
   "outputs": [
    {
     "data": {
      "text/plain": [
       "<matplotlib.legend.Legend at 0x281ce5120>"
      ]
     },
     "execution_count": 79,
     "metadata": {},
     "output_type": "execute_result"
    },
    {
     "data": {
      "image/png": "[encoded data removed]",
      "text/plain": [
       "<Figure size 800x200 with 1 Axes>"
      ]
     },
     "metadata": {},
     "output_type": "display_data"
    }
   ],
   "source": [
    "plt.figure(figsize=(8,2))\n",
    "cls1 = df[[\"DUK\", \"COST\"]][0:w].diff().dropna()\n",
    "cls1[\"clsmean\"] = cls1[[\"DUK\", \"COST\"]].apply(lambda x: x.mean(), axis=1)\n",
    "plt.plot(cls1, '-o')\n",
    "plt.legend([\"DUK\", \"COST\", \"clsmean\"])"
   ]
  },
  {
   "cell_type": "code",
   "execution_count": null,
   "id": "d4b69c59",
   "metadata": {},
   "outputs": [
    {
     "data": {
      "text/html": [
       "<div>\n",
       "<style scoped>\n",
       "    .dataframe tbody tr th:only-of-type {\n",
       "        vertical-align: middle;\n",
       "    }\n",
       "\n",
       "    .dataframe tbody tr th {\n",
       "        vertical-align: top;\n",
       "    }\n",
       "\n",
       "    .dataframe thead th {\n",
       "        text-align: right;\n",
       "    }\n",
       "</style>\n",
       "<table border=\"1\" class=\"dataframe\">\n",
       "  <thead>\n",
       "    <tr style=\"text-align: right;\">\n",
       "      <th></th>\n",
       "      <th>DUK</th>\n",
       "      <th>COST</th>\n",
       "      <th>clsmean</th>\n",
       "    </tr>\n",
       "    <tr>\n",
       "      <th>Date</th>\n",
       "      <th></th>\n",
       "      <th></th>\n",
       "      <th></th>\n",
       "    </tr>\n",
       "  </thead>\n",
       "  <tbody>\n",
       "    <tr>\n",
       "      <th>2020-01-03</th>\n",
       "      <td>0.051575</td>\n",
       "      <td>0.226868</td>\n",
       "      <td>0.139221</td>\n",
       "    </tr>\n",
       "    <tr>\n",
       "      <th>2020-01-06</th>\n",
       "      <td>0.378059</td>\n",
       "      <td>0.075623</td>\n",
       "      <td>0.226841</td>\n",
       "    </tr>\n",
       "    <tr>\n",
       "      <th>2020-01-07</th>\n",
       "      <td>-0.489777</td>\n",
       "      <td>-0.434845</td>\n",
       "      <td>-0.462311</td>\n",
       "    </tr>\n",
       "    <tr>\n",
       "      <th>2020-01-08</th>\n",
       "      <td>0.111717</td>\n",
       "      <td>3.157684</td>\n",
       "      <td>1.634701</td>\n",
       "    </tr>\n",
       "  </tbody>\n",
       "</table>\n",
       "</div>"
      ],
      "text/plain": [
       "                 DUK      COST   clsmean\n",
       "Date                                    \n",
       "2020-01-03  0.051575  0.226868  0.139221\n",
       "2020-01-06  0.378059  0.075623  0.226841\n",
       "2020-01-07 -0.489777 -0.434845 -0.462311\n",
       "2020-01-08  0.111717  3.157684  1.634701"
      ]
     },
     "execution_count": 80,
     "metadata": {},
     "output_type": "execute_result"
    }
   ],
   "source": [
    "cls1"
   ]
  },
  {
   "cell_type": "markdown",
   "id": "a1363d60",
   "metadata": {},
   "source": [
    "Scale of price may have an effect on the cluster mean since we do not consider the percentage changes but raw changes to calcuate the cluster mean. Whichever may have a large deviation could lead the cluster mean.\n",
    "\n",
    "In this example COST make larger move on 2020-01-08 draging cluster mean towards it. This makes DUK a loser by a large deviation. So we go long on DUK expecting it will move towards the cluster mean in a certain period of time."
   ]
  },
  {
   "cell_type": "code",
   "execution_count": null,
   "id": "3968c699",
   "metadata": {},
   "outputs": [
    {
     "data": {
      "text/plain": [
       "<matplotlib.legend.Legend at 0x281b70d00>"
      ]
     },
     "execution_count": 71,
     "metadata": {},
     "output_type": "execute_result"
    },
    {
     "data": {
      "image/png": "[encoded data removed]",
      "text/plain": [
       "<Figure size 800x400 with 1 Axes>"
      ]
     },
     "metadata": {},
     "output_type": "display_data"
    }
   ],
   "source": [
    "plt.figure(figsize=(8,4))\n",
    "cls1 = df[[\"DUK\", \"COST\"]][0:w].diff().dropna()\n",
    "cls1[[\"dukd\", \"costd\"]] = cls1.apply(lambda x: x-x.mean(), axis=1).cumsum()\n",
    "cls1[\"clsmean\"] = cls1[[\"DUK\", \"COST\"]].apply(lambda x: x.mean(), axis=1)\n",
    "plt.plot(cls1[[\"dukd\", \"costd\",\"clsmean\"]], '-o')\n",
    "plt.legend([\"dukd\", \"costd\", \"clsmean\"])"
   ]
  },
  {
   "cell_type": "code",
   "execution_count": null,
   "id": "1451a2c7",
   "metadata": {},
   "outputs": [
    {
     "data": {
      "text/html": [
       "<div>\n",
       "<style scoped>\n",
       "    .dataframe tbody tr th:only-of-type {\n",
       "        vertical-align: middle;\n",
       "    }\n",
       "\n",
       "    .dataframe tbody tr th {\n",
       "        vertical-align: top;\n",
       "    }\n",
       "\n",
       "    .dataframe thead th {\n",
       "        text-align: right;\n",
       "    }\n",
       "</style>\n",
       "<table border=\"1\" class=\"dataframe\">\n",
       "  <thead>\n",
       "    <tr style=\"text-align: right;\">\n",
       "      <th></th>\n",
       "      <th>DUK</th>\n",
       "      <th>COST</th>\n",
       "      <th>dukd</th>\n",
       "      <th>costd</th>\n",
       "      <th>clsmean</th>\n",
       "    </tr>\n",
       "    <tr>\n",
       "      <th>Date</th>\n",
       "      <th></th>\n",
       "      <th></th>\n",
       "      <th></th>\n",
       "      <th></th>\n",
       "      <th></th>\n",
       "    </tr>\n",
       "  </thead>\n",
       "  <tbody>\n",
       "    <tr>\n",
       "      <th>2020-01-03</th>\n",
       "      <td>0.051575</td>\n",
       "      <td>0.226868</td>\n",
       "      <td>-0.087646</td>\n",
       "      <td>0.087646</td>\n",
       "      <td>0.139221</td>\n",
       "    </tr>\n",
       "    <tr>\n",
       "      <th>2020-01-06</th>\n",
       "      <td>0.378059</td>\n",
       "      <td>0.075623</td>\n",
       "      <td>0.063572</td>\n",
       "      <td>-0.063572</td>\n",
       "      <td>0.226841</td>\n",
       "    </tr>\n",
       "    <tr>\n",
       "      <th>2020-01-07</th>\n",
       "      <td>-0.489777</td>\n",
       "      <td>-0.434845</td>\n",
       "      <td>0.036106</td>\n",
       "      <td>-0.036106</td>\n",
       "      <td>-0.462311</td>\n",
       "    </tr>\n",
       "    <tr>\n",
       "      <th>2020-01-08</th>\n",
       "      <td>0.111717</td>\n",
       "      <td>3.157684</td>\n",
       "      <td>-1.486877</td>\n",
       "      <td>1.486877</td>\n",
       "      <td>1.634701</td>\n",
       "    </tr>\n",
       "  </tbody>\n",
       "</table>\n",
       "</div>"
      ],
      "text/plain": [
       "                 DUK      COST      dukd     costd   clsmean\n",
       "Date                                                        \n",
       "2020-01-03  0.051575  0.226868 -0.087646  0.087646  0.139221\n",
       "2020-01-06  0.378059  0.075623  0.063572 -0.063572  0.226841\n",
       "2020-01-07 -0.489777 -0.434845  0.036106 -0.036106 -0.462311\n",
       "2020-01-08  0.111717  3.157684 -1.486877  1.486877  1.634701"
      ]
     },
     "execution_count": 72,
     "metadata": {},
     "output_type": "execute_result"
    }
   ],
   "source": [
    "cls1"
   ]
  },
  {
   "cell_type": "code",
   "execution_count": null,
   "id": "6126c4e0",
   "metadata": {},
   "outputs": [
    {
     "data": {
      "text/html": [
       "<div>\n",
       "<style scoped>\n",
       "    .dataframe tbody tr th:only-of-type {\n",
       "        vertical-align: middle;\n",
       "    }\n",
       "\n",
       "    .dataframe tbody tr th {\n",
       "        vertical-align: top;\n",
       "    }\n",
       "\n",
       "    .dataframe thead th {\n",
       "        text-align: right;\n",
       "    }\n",
       "</style>\n",
       "<table border=\"1\" class=\"dataframe\">\n",
       "  <thead>\n",
       "    <tr style=\"text-align: right;\">\n",
       "      <th></th>\n",
       "      <th>DUK</th>\n",
       "      <th>COST</th>\n",
       "      <th>clsmean</th>\n",
       "    </tr>\n",
       "    <tr>\n",
       "      <th>Date</th>\n",
       "      <th></th>\n",
       "      <th></th>\n",
       "      <th></th>\n",
       "    </tr>\n",
       "  </thead>\n",
       "  <tbody>\n",
       "    <tr>\n",
       "      <th>2020-01-03</th>\n",
       "      <td>3.0</td>\n",
       "      <td>1.0</td>\n",
       "      <td>2.0</td>\n",
       "    </tr>\n",
       "    <tr>\n",
       "      <th>2020-01-06</th>\n",
       "      <td>1.0</td>\n",
       "      <td>3.0</td>\n",
       "      <td>2.0</td>\n",
       "    </tr>\n",
       "    <tr>\n",
       "      <th>2020-01-07</th>\n",
       "      <td>3.0</td>\n",
       "      <td>1.0</td>\n",
       "      <td>2.0</td>\n",
       "    </tr>\n",
       "    <tr>\n",
       "      <th>2020-01-08</th>\n",
       "      <td>3.0</td>\n",
       "      <td>1.0</td>\n",
       "      <td>2.0</td>\n",
       "    </tr>\n",
       "  </tbody>\n",
       "</table>\n",
       "</div>"
      ],
      "text/plain": [
       "            DUK  COST  clsmean\n",
       "Date                          \n",
       "2020-01-03  3.0   1.0      2.0\n",
       "2020-01-06  1.0   3.0      2.0\n",
       "2020-01-07  3.0   1.0      2.0\n",
       "2020-01-08  3.0   1.0      2.0"
      ]
     },
     "execution_count": 89,
     "metadata": {},
     "output_type": "execute_result"
    }
   ],
   "source": [
    "#only for practicing\n",
    "cls1.transform(lambda x: x.rank(ascending=False), axis=1)"
   ]
  },
  {
   "cell_type": "code",
   "execution_count": null,
   "id": "8e6413e7",
   "metadata": {},
   "outputs": [
    {
     "data": {
      "text/plain": [
       "dukd    -1.486877\n",
       "costd    1.486877\n",
       "dtype: float64"
      ]
     },
     "execution_count": 63,
     "metadata": {},
     "output_type": "execute_result"
    }
   ],
   "source": [
    "cls1[[\"dukd\", \"costd\"]].sum()"
   ]
  },
  {
   "cell_type": "code",
   "execution_count": null,
   "id": "838e75d8",
   "metadata": {},
   "outputs": [
    {
     "data": {
      "text/plain": [
       "0.087649"
      ]
     },
     "execution_count": 53,
     "metadata": {},
     "output_type": "execute_result"
    }
   ],
   "source": [
    "0.226868-(0.05157 + 0.226868)/2"
   ]
  },
  {
   "cell_type": "code",
   "execution_count": null,
   "id": "eb4a769c",
   "metadata": {},
   "outputs": [],
   "source": []
  }
 ],
 "metadata": {
  "kernelspec": {
   "display_name": "Python 3 (ipykernel)",
   "language": "python",
   "name": "python3"
  },
  "language_info": {
   "codemirror_mode": {
    "name": "ipython",
    "version": 3
   },
   "file_extension": ".py",
   "mimetype": "text/x-python",
   "name": "python",
   "nbconvert_exporter": "python",
   "pygments_lexer": "ipython3",
   "version": "3.11.5"
  }
 },
 "nbformat": 4,
 "nbformat_minor": 5
}

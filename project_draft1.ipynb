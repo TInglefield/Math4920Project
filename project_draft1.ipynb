{
  "cells": [
    {
      "cell_type": "markdown",
      "metadata": {
        "id": "8oT92rU-wgM6"
      },
      "source": [
        "# Import libraries, Load Data"
      ]
    },
    {
      "cell_type": "code",
      "execution_count": 2,
      "metadata": {
        "colab": {
          "base_uri": "https://localhost:8080/"
        },
        "id": "V-fSDs9OAbBd",
        "outputId": "867ca323-894d-462c-8bcf-dbc72ea1a585"
      },
      "outputs": [],
      "source": [
        "#from google.colab import drive\n",
        "#drive.mount('/content/drive')"
      ]
    },
    {
      "cell_type": "code",
      "execution_count": 3,
      "metadata": {
        "id": "3CtM12jiwgM9"
      },
      "outputs": [],
      "source": [
        "import pandas as pd\n",
        "import numpy as np\n",
        "import matplotlib.pyplot as plt\n",
        "from statsmodels.graphics.tsaplots import plot_acf, plot_pacf\n",
        "from statsmodels.tsa.stattools import adfuller\n",
        "from statsmodels.tsa.statespace.sarimax import SARIMAX\n",
        "import seaborn as sns\n",
        "import yfinance as yf\n",
        "from numpy import linalg as LA\n",
        "from sklearn.cluster import KMeans\n",
        "from statsmodels.tsa.stattools import coint\n",
        "from itertools import combinations"
      ]
    },
    {
      "cell_type": "code",
      "execution_count": 4,
      "metadata": {
        "id": "IEsjifnLwgM-"
      },
      "outputs": [],
      "source": [
        "price_path = '/Users/tuckeringlefield/Desktop/FinanceData/price_data_from_shardar.csv'\n",
        "cap_path = '/Users/tuckeringlefield/Desktop/FinanceData/cap_data_from_shardar.csv'\n",
        "prices_df = pd.read_csv(price_path, index_col='date')\n",
        "caps_df = pd.read_csv(cap_path, index_col='date')"
      ]
    },
    {
      "cell_type": "code",
      "execution_count": 5,
      "metadata": {
        "colab": {
          "base_uri": "https://localhost:8080/"
        },
        "id": "FmDibaljwgM_",
        "outputId": "c3a57c1c-7132-4648-db11-6ce5d517feec"
      },
      "outputs": [
        {
          "name": "stderr",
          "output_type": "stream",
          "text": [
            "[*********************100%%**********************]  1 of 1 completed\n"
          ]
        }
      ],
      "source": [
        "# Convert dates to datetime\n",
        "prices_df.index = pd.to_datetime(prices_df.index)\n",
        "\n",
        "# Get the initial start and end date\n",
        "start_date = prices_df.index[0]\n",
        "end_date = prices_df.index[89]\n",
        "\n",
        "spy_data = yf.download('SPY', start=start_date, end=end_date, interval='1d')\n",
        "spy_data = pd.DataFrame(spy_data[\"Adj Close\"])\n",
        "spy_data.rename({\"Adj Close\": 'SPY'}, inplace=True, axis=1)\n",
        "spy_data = spy_data.reindex(prices_df.index)\n",
        "prices_with_market = pd.concat([prices_df, spy_data], axis=1)\n",
        "\n",
        "df_diff = prices_with_market.diff().dropna()"
      ]
    },
    {
      "cell_type": "code",
      "execution_count": 6,
      "metadata": {
        "colab": {
          "base_uri": "https://localhost:8080/"
        },
        "id": "dSebSW-QwgM_",
        "outputId": "30a8c425-05e5-41d6-9c75-a290de5a9533"
      },
      "outputs": [
        {
          "name": "stdout",
          "output_type": "stream",
          "text": [
            "5787\n",
            "0\n"
          ]
        }
      ],
      "source": [
        "print(len(prices_with_market))\n",
        "print(len(df_diff))"
      ]
    },
    {
      "cell_type": "markdown",
      "metadata": {
        "id": "OGOC8KVEwgNA"
      },
      "source": [
        "# Outline and Function Definitions"
      ]
    },
    {
      "cell_type": "markdown",
      "metadata": {
        "id": "nNAFRVIrwgNA"
      },
      "source": [
        "Outline:\n",
        "\n",
        "We want to start from the year 2000 and do our analysis in two periods:\n",
        "\n",
        "- Learning Period\n",
        "\n",
        "This will require 3 months of data. The top ten largest market cap stocks will be calculated. We should check for null values, this will let us know what stocks were recently added. We can then remove/add stocks by relevency. We then should calculate the correlation matrix for these stocks off of the last day of the three months. Then we will do k means clustering to find pairs that are cointegrated based of off the ADF.\n",
        "\n",
        "- Testing Period\n",
        "\n",
        "This will operate on two weeks of data. We will look at the spread between the stocks. If the spread goes more than 2 std deviations away from the mean for the correlation matrix period we will suggest opening a trade. Spread will come from the linear regression coefficient."
      ]
    },
    {
      "cell_type": "markdown",
      "metadata": {
        "id": "-gbTfemtwgNA"
      },
      "source": [
        "### Functions"
      ]
    },
    {
      "cell_type": "code",
      "execution_count": 7,
      "metadata": {
        "id": "DpTMzuQhwgNA"
      },
      "outputs": [],
      "source": [
        "# Function to find the top ten largest market cap stocks\n",
        "def find_top_ten(dataframe, date_start, date_end):\n",
        "    # Filter dataframe over the desired 3 months\n",
        "    filtered_data = dataframe.loc[date_start:date_end]\n",
        "    end_date_dt = pd.to_datetime(date_end)\n",
        "    target_date = (end_date_dt + pd.DateOffset(1)).date().strftime('%Y-%m-%d')\n",
        "    selected_row = caps_df.loc[target_date]\n",
        "    selected_row_no_null = selected_row.dropna()\n",
        "    stocks_list = selected_row_no_null.nlargest(10).index.tolist()\n",
        "    return stocks_list"
      ]
    },
    {
      "cell_type": "code",
      "execution_count": 8,
      "metadata": {
        "id": "emHDWAONwgNB"
      },
      "outputs": [],
      "source": [
        "# Function to check for null values\n",
        "def check_top_ten(dataframe, date_start, date_end, stocks_list):\n",
        "    #should find the average and median ammount of null values per column\n",
        "    #print this out and print out top ten col's ammounts\n",
        "    ammount_null = []\n",
        "    for column in df.columns:\n",
        "        num_null = df[column].isnull().sum()\n",
        "        ammount_null.append(num_null)\n",
        "    average_num_null = np.mean(ammount_null)\n",
        "    median_num_null = np.median(ammount_null)\n",
        "    plt.boxplot(ammount_null, vert=False)\n",
        "    plt.title('Boxplot of null values per stock in time period')\n",
        "    plt.show()\n",
        "    print(\"Checking Stocks List\")\n",
        "    print(\"--------------------\")\n",
        "    for column in stocks_list:\n",
        "        num_null = df[column].isnull().sum()\n",
        "        print(f'Stock: {column}, Num null: {num_null}')"
      ]
    },
    {
      "cell_type": "code",
      "execution_count": 9,
      "metadata": {
        "id": "D_pvBzyKwgNB"
      },
      "outputs": [],
      "source": [
        "# Function to filter the DF\n",
        "def filter_diff_df(dataframe, date_start, date_end, stocks_list):\n",
        "    desired_columns = stocks_list.copy()\n",
        "    desired_columns.append(\"SPY\")\n",
        "    print(desired_columns)\n",
        "    filtered_df = dataframe[desired_columns]\n",
        "    filtered_df = filtered_df[date_start:date_end].diff().dropna()\n",
        "    return filtered_df"
      ]
    },
    {
      "cell_type": "code",
      "execution_count": 10,
      "metadata": {
        "id": "ZAAAIg6cGmZZ"
      },
      "outputs": [],
      "source": [
        "def filter_df_by_dates(dataframe, date_start, date_end, stocks_list):\n",
        "    desired_columns = stocks_list.copy()\n",
        "    desired_columns.append(\"SPY\")\n",
        "    print(desired_columns)\n",
        "    filtered_df = dataframe[desired_columns]\n",
        "    filtered_df = filtered_df[date_start:date_end]\n",
        "    return filtered_df"
      ]
    },
    {
      "cell_type": "code",
      "execution_count": 11,
      "metadata": {
        "id": "WiM0K2fHwgNB"
      },
      "outputs": [],
      "source": [
        "# Function to calculate the betas\n",
        "def calculate_betas(dataframe, date_start, date_end, stocks_list):\n",
        "    df = dataframe[(dataframe.index >= date_start) & (dataframe.index <= date_end)]\n",
        "    beta_values = []\n",
        "    columns = []\n",
        "\n",
        "    df_var = df['SPY'].var()\n",
        "\n",
        "    for stk in stocks_list:\n",
        "        df_cov = df[[stk, 'SPY']].cov().loc[stk, 'SPY']\n",
        "        beta = df_cov / df_var\n",
        "        beta_values.append(beta)\n",
        "        columns.append(stk + '_beta')\n",
        "\n",
        "    beta_df = pd.DataFrame([beta_values], columns=columns)\n",
        "    beta_df.index = df.index[:1]\n",
        "\n",
        "    plt.figure(figsize=(12, 4))\n",
        "    sns.boxplot(data=beta_df)\n",
        "    plt.show()\n",
        "\n",
        "    return beta_df"
      ]
    },
    {
      "cell_type": "code",
      "execution_count": 12,
      "metadata": {
        "id": "BJMfpPXJwgNB"
      },
      "outputs": [],
      "source": [
        "# Function to calculate the residuals\n",
        "def calculate_residuals(df, stocks_list):\n",
        "    res_df = pd.DataFrame()\n",
        "    for stk in stocks_list:\n",
        "        res_df[stk] = df[stk]-df[stk+\"_beta\"]*df[\"SPY\"]\n",
        "    return res_df"
      ]
    },
    {
      "cell_type": "code",
      "execution_count": 13,
      "metadata": {
        "id": "pIRNkEFVwgNC"
      },
      "outputs": [],
      "source": [
        "# Function to cluster the matrix\n",
        "def cluster_the_matrix(df, num_clusters):\n",
        "    A = abs(df.corr().values)\n",
        "    print(f'A Shape: {A.shape}')\n",
        "    D = np.diag(A.sum(axis=1))\n",
        "    print(f'D Shape: {D.shape}')\n",
        "    L = D - A\n",
        "    print(f'L Shape: {L.shape}')\n",
        "    eigenvalues, eigenvectors = LA.eig(L)\n",
        "    X = eigenvectors[:,:num_clusters]\n",
        "    print(f'X Shape: {X.shape}')\n",
        "    kmeans = KMeans(n_clusters=num_clusters, random_state=2, n_init=20).fit(X)\n",
        "    print(\"Kmeans Labels:\")\n",
        "    print(kmeans.labels_)\n",
        "    print(df.columns)\n",
        "\n",
        "    cluster_dict = {}\n",
        "\n",
        "    # Iterate over the indices of cluster_list\n",
        "    for i in range(len(kmeans.labels_)):\n",
        "        cluster_number = kmeans.labels_[i]\n",
        "        stock_name = df.columns[i]\n",
        "\n",
        "        # Check if cluster_number is already a key in the dictionary\n",
        "        if cluster_number in cluster_dict:\n",
        "            cluster_dict[cluster_number].append(stock_name)\n",
        "        else:\n",
        "            cluster_dict[cluster_number] = [stock_name]\n",
        "\n",
        "    fig, ax = plt.subplots(1, 1, figsize=(8, 4))\n",
        "    scatter = ax.scatter(X[:, 0], X[:, 1], c=kmeans.labels_)\n",
        "    unique_labels = {label: idx for idx, label in enumerate(set(kmeans.labels_))}\n",
        "    handles = [plt.Line2D([0], [0], marker='o', color='w', markerfacecolor=scatter.cmap(scatter.norm(value)), markersize=10)\n",
        "           for value in unique_labels.values()]\n",
        "    labels = unique_labels.keys()\n",
        "    ax.legend(handles, labels, title=\"Clusters\", loc=\"best\", bbox_to_anchor=(1, 1))\n",
        "    ax.set_title(f'K-Means Clustering Results with K={num_clusters}')\n",
        "    plt.show()\n",
        "\n",
        "    return cluster_dict\n"
      ]
    },
    {
      "cell_type": "code",
      "execution_count": 23,
      "metadata": {
        "id": "uy5WxWWnwgNC"
      },
      "outputs": [],
      "source": [
        "# Function to find the cointegrated pairs\n",
        "def find_cointegrated_pairs(dataframe, cluster_dict, sig_level):\n",
        "    cointegrated_pairs = []\n",
        "    for cluster_num, stocks in cluster_dict.items():\n",
        "      for stock1, stock2 in combinations(stocks, 2):\n",
        "          pvalue1 = coint(dataframe[stock1], dataframe[stock2])[1]\n",
        "          pvalue2 = coint(dataframe[stock2], dataframe[stock1])[1]\n",
        "          if pvalue1 < sig_level and pvalue2 < sig_level:\n",
        "              cointegrated_pairs.append([stock1, stock2])\n",
        "    return cointegrated_pairs"
      ]
    },
    {
      "cell_type": "code",
      "execution_count": null,
      "metadata": {},
      "outputs": [],
      "source": [
        "# Monitor a pair for a week\n",
        "def monitor_pair_for_week(dataframe, pair, start_date, pair_data):\n",
        "    # Verify if the stock is still cointegrated\n",
        "    # What do we want to return?\n",
        "    # pair_data is the list of the data...\n",
        "    pass"
      ]
    },
    {
      "cell_type": "code",
      "execution_count": null,
      "metadata": {},
      "outputs": [],
      "source": [
        "def monitor_group_of_pairs(dataframe, cointegrated_pairs, stop_after_weeks):\n",
        "    pairs_list = cointegrated_pairs.copy()\n",
        "    pair_dict = {}\n",
        "    weeks_running = 0\n",
        "    while(weeks_running < stop_after_weeks):\n",
        "        # On the first week we don't have any previous data in the pair_dict What do we pass in??? \n",
        "        training_and_monitoring_start_date = dataframe.index[((weeks_running+1)*7)]\n",
        "        for pair in pairs_list:\n",
        "            # end_date = start_date + WEEK            \n",
        "            result = monitor_pair_for_week(pair, dataframe, training_and_monitoring_start_date, pair_data)\n",
        "            # Update pair_dict[pair] with result\n",
        "            pair_dict[pair] = result\n",
        "        # Prepping for the next week...\n",
        "        # Train by adding the new data in\n",
        "        # Call our trading functions\n",
        "        # Update cointegrated pairs list\n",
        "        weeks_running += 1\n",
        "    return pair_dict"
      ]
    },
    {
      "cell_type": "code",
      "execution_count": null,
      "metadata": {},
      "outputs": [],
      "source": [
        "# What data should we consider for cointegrated pairs\n",
        "# Consecutivity?\n",
        "# Pair1 was consecutive from April 3rd 1992 - March 5th 2002 with ___ acuracy from training model.\n",
        "# Pair1 was consecutive from May 4th 2002- Aug 27th 2002 with __ acuracy from training model.\n",
        "# How do we design the data structure for both of these statements\n",
        "#\n",
        "# Accuracy? Threshold? Specific hypothesis test for accuary of forcasting\n",
        "# Visualizations?\n",
        "# Probably not a great idea to itterate over\n",
        "# Line charts after we get printout\n",
        "# Limit the output based on accuracy?\n",
        "\n",
        "# Pair dict output:\n",
        "# intl and oracle are the two stocks. if we end up monitoring them twice? will the second time override the first time in the dictionary?\n",
        "\n"
      ]
    },
    {
      "cell_type": "code",
      "execution_count": 25,
      "metadata": {},
      "outputs": [],
      "source": [
        "# TO DO:\n",
        "\n",
        "# 1) Find out what we want to output...\n",
        "# 2) Find out data structure supports this...\n",
        "# 3) How does this impliment into our two functions..."
      ]
    },
    {
      "cell_type": "markdown",
      "metadata": {
        "id": "2xgVEn93wgNC"
      },
      "source": [
        "# Testing Functions"
      ]
    },
    {
      "cell_type": "code",
      "execution_count": 15,
      "metadata": {
        "colab": {
          "base_uri": "https://localhost:8080/",
          "height": 373
        },
        "id": "a08q3r-ywgNC",
        "outputId": "7ddda714-7da1-4d44-a201-d7dbb29eb8da"
      },
      "outputs": [
        {
          "data": {
            "text/html": [
              "<div>\n",
              "<style scoped>\n",
              "    .dataframe tbody tr th:only-of-type {\n",
              "        vertical-align: middle;\n",
              "    }\n",
              "\n",
              "    .dataframe tbody tr th {\n",
              "        vertical-align: top;\n",
              "    }\n",
              "\n",
              "    .dataframe thead th {\n",
              "        text-align: right;\n",
              "    }\n",
              "</style>\n",
              "<table border=\"1\" class=\"dataframe\">\n",
              "  <thead>\n",
              "    <tr style=\"text-align: right;\">\n",
              "      <th></th>\n",
              "      <th>ATW</th>\n",
              "      <th>A</th>\n",
              "      <th>AA</th>\n",
              "      <th>AAAB</th>\n",
              "      <th>AABC</th>\n",
              "      <th>AAC1</th>\n",
              "      <th>AACC</th>\n",
              "      <th>AACE</th>\n",
              "      <th>AACH</th>\n",
              "      <th>AADI</th>\n",
              "      <th>...</th>\n",
              "      <th>ZVOI</th>\n",
              "      <th>ZVRA</th>\n",
              "      <th>ZVUE</th>\n",
              "      <th>ZVXI</th>\n",
              "      <th>ZY</th>\n",
              "      <th>ZYME</th>\n",
              "      <th>ZYNE</th>\n",
              "      <th>ZYXI</th>\n",
              "      <th>ZZ</th>\n",
              "      <th>SPY</th>\n",
              "    </tr>\n",
              "    <tr>\n",
              "      <th>date</th>\n",
              "      <th></th>\n",
              "      <th></th>\n",
              "      <th></th>\n",
              "      <th></th>\n",
              "      <th></th>\n",
              "      <th></th>\n",
              "      <th></th>\n",
              "      <th></th>\n",
              "      <th></th>\n",
              "      <th></th>\n",
              "      <th></th>\n",
              "      <th></th>\n",
              "      <th></th>\n",
              "      <th></th>\n",
              "      <th></th>\n",
              "      <th></th>\n",
              "      <th></th>\n",
              "      <th></th>\n",
              "      <th></th>\n",
              "      <th></th>\n",
              "      <th></th>\n",
              "    </tr>\n",
              "  </thead>\n",
              "  <tbody>\n",
              "    <tr>\n",
              "      <th>2000-01-03</th>\n",
              "      <td>8.766</td>\n",
              "      <td>44.275</td>\n",
              "      <td>NaN</td>\n",
              "      <td>8.036</td>\n",
              "      <td>7.791</td>\n",
              "      <td>4.562</td>\n",
              "      <td>NaN</td>\n",
              "      <td>17.000</td>\n",
              "      <td>NaN</td>\n",
              "      <td>NaN</td>\n",
              "      <td>...</td>\n",
              "      <td>NaN</td>\n",
              "      <td>NaN</td>\n",
              "      <td>NaN</td>\n",
              "      <td>3.625</td>\n",
              "      <td>NaN</td>\n",
              "      <td>NaN</td>\n",
              "      <td>NaN</td>\n",
              "      <td>NaN</td>\n",
              "      <td>NaN</td>\n",
              "      <td>93.290192</td>\n",
              "    </tr>\n",
              "    <tr>\n",
              "      <th>2000-01-04</th>\n",
              "      <td>8.913</td>\n",
              "      <td>40.893</td>\n",
              "      <td>NaN</td>\n",
              "      <td>7.619</td>\n",
              "      <td>7.791</td>\n",
              "      <td>4.438</td>\n",
              "      <td>NaN</td>\n",
              "      <td>15.875</td>\n",
              "      <td>NaN</td>\n",
              "      <td>NaN</td>\n",
              "      <td>...</td>\n",
              "      <td>NaN</td>\n",
              "      <td>NaN</td>\n",
              "      <td>NaN</td>\n",
              "      <td>3.500</td>\n",
              "      <td>NaN</td>\n",
              "      <td>NaN</td>\n",
              "      <td>NaN</td>\n",
              "      <td>NaN</td>\n",
              "      <td>NaN</td>\n",
              "      <td>89.641960</td>\n",
              "    </tr>\n",
              "    <tr>\n",
              "      <th>2000-01-05</th>\n",
              "      <td>8.899</td>\n",
              "      <td>37.855</td>\n",
              "      <td>NaN</td>\n",
              "      <td>7.500</td>\n",
              "      <td>7.791</td>\n",
              "      <td>4.438</td>\n",
              "      <td>NaN</td>\n",
              "      <td>16.125</td>\n",
              "      <td>NaN</td>\n",
              "      <td>NaN</td>\n",
              "      <td>...</td>\n",
              "      <td>NaN</td>\n",
              "      <td>NaN</td>\n",
              "      <td>NaN</td>\n",
              "      <td>3.708</td>\n",
              "      <td>NaN</td>\n",
              "      <td>NaN</td>\n",
              "      <td>NaN</td>\n",
              "      <td>NaN</td>\n",
              "      <td>NaN</td>\n",
              "      <td>89.802322</td>\n",
              "    </tr>\n",
              "    <tr>\n",
              "      <th>2000-01-06</th>\n",
              "      <td>9.270</td>\n",
              "      <td>36.896</td>\n",
              "      <td>NaN</td>\n",
              "      <td>7.500</td>\n",
              "      <td>7.791</td>\n",
              "      <td>4.500</td>\n",
              "      <td>NaN</td>\n",
              "      <td>16.125</td>\n",
              "      <td>NaN</td>\n",
              "      <td>NaN</td>\n",
              "      <td>...</td>\n",
              "      <td>NaN</td>\n",
              "      <td>NaN</td>\n",
              "      <td>NaN</td>\n",
              "      <td>3.833</td>\n",
              "      <td>NaN</td>\n",
              "      <td>NaN</td>\n",
              "      <td>NaN</td>\n",
              "      <td>NaN</td>\n",
              "      <td>NaN</td>\n",
              "      <td>88.359062</td>\n",
              "    </tr>\n",
              "    <tr>\n",
              "      <th>2000-01-07</th>\n",
              "      <td>9.508</td>\n",
              "      <td>39.971</td>\n",
              "      <td>NaN</td>\n",
              "      <td>7.738</td>\n",
              "      <td>7.607</td>\n",
              "      <td>4.562</td>\n",
              "      <td>NaN</td>\n",
              "      <td>16.750</td>\n",
              "      <td>NaN</td>\n",
              "      <td>NaN</td>\n",
              "      <td>...</td>\n",
              "      <td>NaN</td>\n",
              "      <td>NaN</td>\n",
              "      <td>NaN</td>\n",
              "      <td>4.167</td>\n",
              "      <td>NaN</td>\n",
              "      <td>NaN</td>\n",
              "      <td>NaN</td>\n",
              "      <td>NaN</td>\n",
              "      <td>NaN</td>\n",
              "      <td>93.490631</td>\n",
              "    </tr>\n",
              "  </tbody>\n",
              "</table>\n",
              "<p>5 rows × 10811 columns</p>\n",
              "</div>"
            ],
            "text/plain": [
              "              ATW       A  AA   AAAB   AABC   AAC1  AACC    AACE  AACH  AADI  \\\n",
              "date                                                                           \n",
              "2000-01-03  8.766  44.275 NaN  8.036  7.791  4.562   NaN  17.000   NaN   NaN   \n",
              "2000-01-04  8.913  40.893 NaN  7.619  7.791  4.438   NaN  15.875   NaN   NaN   \n",
              "2000-01-05  8.899  37.855 NaN  7.500  7.791  4.438   NaN  16.125   NaN   NaN   \n",
              "2000-01-06  9.270  36.896 NaN  7.500  7.791  4.500   NaN  16.125   NaN   NaN   \n",
              "2000-01-07  9.508  39.971 NaN  7.738  7.607  4.562   NaN  16.750   NaN   NaN   \n",
              "\n",
              "            ...  ZVOI  ZVRA  ZVUE   ZVXI  ZY  ZYME  ZYNE  ZYXI  ZZ        SPY  \n",
              "date        ...                                                                \n",
              "2000-01-03  ...   NaN   NaN   NaN  3.625 NaN   NaN   NaN   NaN NaN  93.290192  \n",
              "2000-01-04  ...   NaN   NaN   NaN  3.500 NaN   NaN   NaN   NaN NaN  89.641960  \n",
              "2000-01-05  ...   NaN   NaN   NaN  3.708 NaN   NaN   NaN   NaN NaN  89.802322  \n",
              "2000-01-06  ...   NaN   NaN   NaN  3.833 NaN   NaN   NaN   NaN NaN  88.359062  \n",
              "2000-01-07  ...   NaN   NaN   NaN  4.167 NaN   NaN   NaN   NaN NaN  93.490631  \n",
              "\n",
              "[5 rows x 10811 columns]"
            ]
          },
          "execution_count": 15,
          "metadata": {},
          "output_type": "execute_result"
        }
      ],
      "source": [
        "prices_with_market.head()"
      ]
    },
    {
      "cell_type": "code",
      "execution_count": 16,
      "metadata": {
        "colab": {
          "base_uri": "https://localhost:8080/"
        },
        "id": "6WlBV2KDwgNC",
        "outputId": "2e9868c6-39a8-4e14-e072-274de239d1a0"
      },
      "outputs": [
        {
          "name": "stdout",
          "output_type": "stream",
          "text": [
            "['SCMR', 'LVLT', 'AMAT', 'INTC', 'CSCO', 'JAVA1', 'ORCL', 'DELL1', 'MSFT', 'QCOM']\n"
          ]
        }
      ],
      "source": [
        "start = prices_with_market.index[0]\n",
        "end = prices_with_market.index[89]\n",
        "top_ten = find_top_ten(prices_with_market, start, end)\n",
        "print(top_ten)\n",
        "# check_top_ten(df, start, end, top_ten)\n",
        "# print()"
      ]
    },
    {
      "cell_type": "code",
      "execution_count": 17,
      "metadata": {
        "colab": {
          "base_uri": "https://localhost:8080/"
        },
        "id": "rKCMtBTOwgNC",
        "outputId": "f99d96e1-8147-4d7c-cd1b-ea013660462b"
      },
      "outputs": [
        {
          "name": "stdout",
          "output_type": "stream",
          "text": [
            "['SCMR', 'LVLT', 'AMAT', 'INTC', 'CSCO', 'JAVA1', 'ORCL', 'DELL1', 'MSFT', 'QCOM', 'SPY']\n",
            "['SCMR', 'LVLT', 'AMAT', 'INTC', 'CSCO', 'JAVA1', 'ORCL', 'DELL1', 'MSFT', 'QCOM', 'SPY']\n"
          ]
        }
      ],
      "source": [
        "filtered_diff_df = filter_diff_df(prices_with_market, start, end, top_ten)\n",
        "filtered_diff_df.head()\n",
        "three_month_top_10_price_df = filter_df_by_dates(prices_with_market, start, end, top_ten)"
      ]
    },
    {
      "cell_type": "code",
      "execution_count": 18,
      "metadata": {
        "colab": {
          "base_uri": "https://localhost:8080/",
          "height": 1000
        },
        "id": "S3lbVsBywgNC",
        "outputId": "9e053ff6-2b61-494d-e3c8-9e648e45a58a"
      },
      "outputs": [
        {
          "data": {
            "image/png": "[encoded data removed]",
            "text/plain": [
              "<Figure size 1200x400 with 1 Axes>"
            ]
          },
          "metadata": {},
          "output_type": "display_data"
        },
        {
          "name": "stdout",
          "output_type": "stream",
          "text": [
            "Beta DF:\n",
            "            SCMR_beta  LVLT_beta  AMAT_beta  INTC_beta  CSCO_beta  JAVA1_beta  \\\n",
            "date                                                                            \n",
            "2000-01-04  18.534675  16.697651    0.50571   0.475467   0.684209    2.472574   \n",
            "\n",
            "            ORCL_beta  DELL1_beta  MSFT_beta  QCOM_beta  \n",
            "date                                                     \n",
            "2000-01-04   0.508756    0.451121   0.329181   0.901143  \n",
            "\n",
            "Residual DF:\n",
            "          SCMR       LVLT      AMAT      INTC      CSCO      JAVA1      ORCL  \\\n",
            "0    18.034787 -27.133103  0.701949  0.566613  0.393153  -0.479476 -0.275939   \n",
            "1   -38.805262 -36.427673 -1.021097  0.409753  0.166279  -0.146508 -0.942585   \n",
            "2   -69.082641 -22.850945  0.858872 -1.005778  0.022492  -4.181432 -0.802732   \n",
            "3    13.221036 -54.635147 -2.411088 -1.504891 -1.477066  -4.938185 -1.093718   \n",
            "4     9.056041  55.545164  1.589822  0.927521  1.124578  12.832060  2.377845   \n",
            "..         ...        ...       ...       ...       ...        ...       ...   \n",
            "83  -12.897718 -63.209758  0.496584  0.435944  0.147993   3.616425  0.284194   \n",
            "84   11.711317  -3.908550  0.853477 -0.180859 -2.143481  -5.189369 -0.986604   \n",
            "85   47.638465  62.243944  0.971034  0.568462  2.084738   7.017043  0.486667   \n",
            "86   10.975767 -33.422909 -1.939373 -1.340342 -2.972613  -8.535674 -1.491261   \n",
            "87 -108.280284  19.747305 -1.494074  0.146743  0.501850  -4.686429  0.246160   \n",
            "\n",
            "       DELL1      MSFT      QCOM  \n",
            "0  -2.387207 -0.023073 -2.274422  \n",
            "1   3.071657  0.317212 -1.470509  \n",
            "2  -1.187915 -0.708907 -4.487416  \n",
            "3  -4.034957 -1.241213 -1.423277  \n",
            "4  -2.101672  0.145434  2.751009  \n",
            "..       ...       ...       ...  \n",
            "83  0.505103  0.928447  1.049822  \n",
            "84 -2.266225 -0.261910 -1.973699  \n",
            "85  1.992372 -0.152846  0.006959  \n",
            "86 -1.525222 -0.178767 -1.574205  \n",
            "87 -0.737114 -0.379554  1.306966  \n",
            "\n",
            "[88 rows x 10 columns]\n"
          ]
        }
      ],
      "source": [
        "beta_df = calculate_betas(filtered_diff_df, start, end, top_ten)\n",
        "print('Beta DF:')\n",
        "print(beta_df)\n",
        "print()\n",
        "\n",
        "merged_df = filtered_diff_df.merge(beta_df, how = 'cross')\n",
        "\n",
        "print('Residual DF:')\n",
        "res_df = calculate_residuals(merged_df, top_ten)\n",
        "print(res_df)"
      ]
    },
    {
      "cell_type": "code",
      "execution_count": 19,
      "metadata": {
        "colab": {
          "base_uri": "https://localhost:8080/",
          "height": 565
        },
        "id": "C9zbM6uEwgNC",
        "outputId": "774f501a-4a96-4761-ad7c-a1ae0c8a06df"
      },
      "outputs": [
        {
          "name": "stdout",
          "output_type": "stream",
          "text": [
            "A Shape: (10, 10)\n",
            "D Shape: (10, 10)\n",
            "L Shape: (10, 10)\n",
            "X Shape: (10, 4)\n",
            "Kmeans Labels:\n",
            "[1 1 2 1 0 3 1 1 1 1]\n",
            "Index(['SCMR', 'LVLT', 'AMAT', 'INTC', 'CSCO', 'JAVA1', 'ORCL', 'DELL1',\n",
            "       'MSFT', 'QCOM'],\n",
            "      dtype='object')\n"
          ]
        },
        {
          "data": {
            "image/png": "[encoded data removed]",
            "text/plain": [
              "<Figure size 800x400 with 1 Axes>"
            ]
          },
          "metadata": {},
          "output_type": "display_data"
        }
      ],
      "source": [
        "cluster_dictionary_for_top_10 = cluster_the_matrix(res_df, 4)"
      ]
    },
    {
      "cell_type": "code",
      "execution_count": 24,
      "metadata": {
        "colab": {
          "base_uri": "https://localhost:8080/"
        },
        "id": "X5RXYjkkwgNC",
        "outputId": "4948c41d-5fb9-43e3-8f66-9fcd55122c46"
      },
      "outputs": [
        {
          "data": {
            "text/plain": [
              "[['INTC', 'ORCL']]"
            ]
          },
          "execution_count": 24,
          "metadata": {},
          "output_type": "execute_result"
        }
      ],
      "source": [
        "coint_pairs_from_top_10 = find_cointegrated_pairs(three_month_top_10_price_df, cluster_dictionary_for_top_10, 0.05)\n",
        "coint_pairs_from_top_10"
      ]
    },
    {
      "cell_type": "code",
      "execution_count": null,
      "metadata": {
        "id": "CI4_nTa3GSy_"
      },
      "outputs": [],
      "source": []
    }
  ],
  "metadata": {
    "colab": {
      "provenance": []
    },
    "kernelspec": {
      "display_name": "Python 3",
      "language": "python",
      "name": "python3"
    },
    "language_info": {
      "codemirror_mode": {
        "name": "ipython",
        "version": 3
      },
      "file_extension": ".py",
      "mimetype": "text/x-python",
      "name": "python",
      "nbconvert_exporter": "python",
      "pygments_lexer": "ipython3",
      "version": "3.11.5"
    },
    "orig_nbformat": 4
  },
  "nbformat": 4,
  "nbformat_minor": 0
}

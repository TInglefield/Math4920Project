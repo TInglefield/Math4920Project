{
  "cells": [
    {
      "cell_type": "markdown",
      "metadata": {
        "id": "8oT92rU-wgM6"
      },
      "source": [
        "# Import libraries, Load Data"
      ]
    },
    {
      "cell_type": "code",
      "execution_count": 4,
      "metadata": {
        "colab": {
          "base_uri": "https://localhost:8080/"
        },
        "id": "V-fSDs9OAbBd",
        "outputId": "867ca323-894d-462c-8bcf-dbc72ea1a585"
      },
      "outputs": [],
      "source": [
        "#from google.colab import drive\n",
        "#drive.mount('/content/drive')\n",
        "#comment"
      ]
    },
    {
      "cell_type": "code",
      "execution_count": 5,
      "metadata": {
        "id": "3CtM12jiwgM9"
      },
      "outputs": [],
      "source": [
        "import pandas as pd\n",
        "import numpy as np\n",
        "import matplotlib.pyplot as plt\n",
        "from statsmodels.graphics.tsaplots import plot_acf, plot_pacf\n",
        "from statsmodels.tsa.stattools import adfuller\n",
        "from statsmodels.tsa.statespace.sarimax import SARIMAX\n",
        "import seaborn as sns\n",
        "import yfinance as yf\n",
        "from numpy import linalg as LA\n",
        "from sklearn.cluster import KMeans\n",
        "from statsmodels.tsa.stattools import coint\n",
        "from itertools import combinations"
      ]
    },
    {
      "cell_type": "code",
      "execution_count": 6,
      "metadata": {
        "id": "IEsjifnLwgM-"
      },
      "outputs": [],
      "source": [
        "price_path = '/Users/tuckeringlefield/Desktop/FinanceData/price_data_from_shardar.csv'\n",
        "cap_path = '/Users/tuckeringlefield/Desktop/FinanceData/cap_data_from_shardar.csv'\n",
        "prices_df = pd.read_csv(price_path, index_col='date')\n",
        "caps_df = pd.read_csv(cap_path, index_col='date')"
      ]
    },
    {
      "cell_type": "code",
      "execution_count": 7,
      "metadata": {
        "colab": {
          "base_uri": "https://localhost:8080/"
        },
        "id": "FmDibaljwgM_",
        "outputId": "c3a57c1c-7132-4648-db11-6ce5d517feec"
      },
      "outputs": [
        {
          "name": "stderr",
          "output_type": "stream",
          "text": [
            "[*********************100%%**********************]  1 of 1 completed\n"
          ]
        }
      ],
      "source": [
        "# Convert dates to datetime\n",
        "prices_df.index = pd.to_datetime(prices_df.index)\n",
        "\n",
        "# Get the initial start and end date\n",
        "start_date = prices_df.index[0]\n",
        "end_date = prices_df.index[89]\n",
        "\n",
        "spy_data = yf.download('SPY', start=start_date, end=end_date, interval='1d')\n",
        "spy_data = pd.DataFrame(spy_data[\"Adj Close\"])\n",
        "spy_data.rename({\"Adj Close\": 'SPY'}, inplace=True, axis=1)\n",
        "spy_data = spy_data.reindex(prices_df.index)\n",
        "prices_with_market = pd.concat([prices_df, spy_data], axis=1)\n",
        "\n",
        "df_diff = prices_with_market.diff().dropna()"
      ]
    },
    {
      "cell_type": "code",
      "execution_count": 8,
      "metadata": {
        "colab": {
          "base_uri": "https://localhost:8080/"
        },
        "id": "dSebSW-QwgM_",
        "outputId": "30a8c425-05e5-41d6-9c75-a290de5a9533"
      },
      "outputs": [
        {
          "name": "stdout",
          "output_type": "stream",
          "text": [
            "5787\n",
            "0\n"
          ]
        }
      ],
      "source": [
        "print(len(prices_with_market))\n",
        "print(len(df_diff))"
      ]
    },
    {
      "cell_type": "markdown",
      "metadata": {
        "id": "OGOC8KVEwgNA"
      },
      "source": [
        "# Outline and Function Definitions"
      ]
    },
    {
      "cell_type": "markdown",
      "metadata": {
        "id": "nNAFRVIrwgNA"
      },
      "source": [
        "Outline:\n",
        "\n",
        "We want to start from the year 2000 and do our analysis in two periods:\n",
        "\n",
        "- Learning Period\n",
        "\n",
        "This will require 3 months of data. The top ten largest market cap stocks will be calculated. We should check for null values, this will let us know what stocks were recently added. We can then remove/add stocks by relevency. We then should calculate the correlation matrix for these stocks off of the last day of the three months. Then we will do k means clustering to find pairs that are cointegrated based of off the ADF.\n",
        "\n",
        "- Testing Period\n",
        "\n",
        "This will operate on two weeks of data. We will look at the spread between the stocks. If the spread goes more than 2 std deviations away from the mean for the correlation matrix period we will suggest opening a trade. Spread will come from the linear regression coefficient."
      ]
    },
    {
      "cell_type": "markdown",
      "metadata": {
        "id": "-gbTfemtwgNA"
      },
      "source": [
        "### Functions"
      ]
    },
    {
      "cell_type": "code",
      "execution_count": 9,
      "metadata": {
        "id": "DpTMzuQhwgNA"
      },
      "outputs": [],
      "source": [
        "# Function to find the top ten largest market cap stocks\n",
        "def find_top_ten(dataframe, date_start, date_end):\n",
        "    # Filter dataframe over the desired 3 months\n",
        "    filtered_data = dataframe.loc[date_start:date_end]\n",
        "    end_date_dt = pd.to_datetime(date_end)\n",
        "    target_date = (end_date_dt + pd.DateOffset(1)).date().strftime('%Y-%m-%d')\n",
        "    selected_row = caps_df.loc[target_date]\n",
        "    selected_row_no_null = selected_row.dropna()\n",
        "    stocks_list = selected_row_no_null.nlargest(10).index.tolist()\n",
        "    return stocks_list"
      ]
    },
    {
      "cell_type": "code",
      "execution_count": 10,
      "metadata": {
        "id": "emHDWAONwgNB"
      },
      "outputs": [],
      "source": [
        "# Function to check for null values\n",
        "def check_top_ten(dataframe, date_start, date_end, stocks_list):\n",
        "    #should find the average and median ammount of null values per column\n",
        "    #print this out and print out top ten col's ammounts\n",
        "    ammount_null = []\n",
        "    for column in df.columns:\n",
        "        num_null = df[column].isnull().sum()\n",
        "        ammount_null.append(num_null)\n",
        "    average_num_null = np.mean(ammount_null)\n",
        "    median_num_null = np.median(ammount_null)\n",
        "    plt.boxplot(ammount_null, vert=False)\n",
        "    plt.title('Boxplot of null values per stock in time period')\n",
        "    plt.show()\n",
        "    print(\"Checking Stocks List\")\n",
        "    print(\"--------------------\")\n",
        "    for column in stocks_list:\n",
        "        num_null = df[column].isnull().sum()\n",
        "        print(f'Stock: {column}, Num null: {num_null}')"
      ]
    },
    {
      "cell_type": "code",
      "execution_count": 11,
      "metadata": {
        "id": "D_pvBzyKwgNB"
      },
      "outputs": [],
      "source": [
        "# Function to filter the DF\n",
        "def filter_diff_df(dataframe, date_start, date_end, stocks_list):\n",
        "    desired_columns = stocks_list.copy()\n",
        "    desired_columns.append(\"SPY\")\n",
        "    print(desired_columns)\n",
        "    filtered_df = dataframe[desired_columns]\n",
        "    filtered_df = filtered_df[date_start:date_end].diff().dropna()\n",
        "    return filtered_df"
      ]
    },
    {
      "cell_type": "code",
      "execution_count": 12,
      "metadata": {
        "id": "ZAAAIg6cGmZZ"
      },
      "outputs": [],
      "source": [
        "def filter_df_by_dates(dataframe, date_start, date_end, stocks_list):\n",
        "    desired_columns = stocks_list.copy()\n",
        "    desired_columns.append(\"SPY\")\n",
        "    print(desired_columns)\n",
        "    filtered_df = dataframe[desired_columns]\n",
        "    filtered_df = filtered_df[date_start:date_end]\n",
        "    return filtered_df"
      ]
    },
    {
      "cell_type": "code",
      "execution_count": 13,
      "metadata": {
        "id": "WiM0K2fHwgNB"
      },
      "outputs": [],
      "source": [
        "# Function to calculate the betas\n",
        "def calculate_betas(dataframe, date_start, date_end, stocks_list):\n",
        "    df = dataframe[(dataframe.index >= date_start) & (dataframe.index <= date_end)]\n",
        "    beta_values = []\n",
        "    columns = []\n",
        "\n",
        "    df_var = df['SPY'].var()\n",
        "\n",
        "    for stk in stocks_list:\n",
        "        df_cov = df[[stk, 'SPY']].cov().loc[stk, 'SPY']\n",
        "        beta = df_cov / df_var\n",
        "        beta_values.append(beta)\n",
        "        columns.append(stk + '_beta')\n",
        "\n",
        "    beta_df = pd.DataFrame([beta_values], columns=columns)\n",
        "    beta_df.index = df.index[:1]\n",
        "\n",
        "    plt.figure(figsize=(12, 4))\n",
        "    sns.boxplot(data=beta_df)\n",
        "    plt.show()\n",
        "\n",
        "    return beta_df"
      ]
    },
    {
      "cell_type": "code",
      "execution_count": 14,
      "metadata": {
        "id": "BJMfpPXJwgNB"
      },
      "outputs": [],
      "source": [
        "# Function to calculate the residuals\n",
        "def calculate_residuals(df, stocks_list):\n",
        "    res_df = pd.DataFrame()\n",
        "    for stk in stocks_list:\n",
        "        res_df[stk] = df[stk]-df[stk+\"_beta\"]*df[\"SPY\"]\n",
        "    return res_df"
      ]
    },
    {
      "cell_type": "code",
      "execution_count": 15,
      "metadata": {
        "id": "pIRNkEFVwgNC"
      },
      "outputs": [],
      "source": [
        "# Function to cluster the matrix\n",
        "def cluster_the_matrix(df, num_clusters):\n",
        "    A = abs(df.corr().values)\n",
        "    print(f'A Shape: {A.shape}')\n",
        "    D = np.diag(A.sum(axis=1))\n",
        "    print(f'D Shape: {D.shape}')\n",
        "    L = D - A\n",
        "    print(f'L Shape: {L.shape}')\n",
        "    eigenvalues, eigenvectors = LA.eig(L)\n",
        "    X = eigenvectors[:,:num_clusters]\n",
        "    print(f'X Shape: {X.shape}')\n",
        "    kmeans = KMeans(n_clusters=num_clusters, random_state=2, n_init=20).fit(X)\n",
        "    print(\"Kmeans Labels:\")\n",
        "    print(kmeans.labels_)\n",
        "    print(df.columns)\n",
        "\n",
        "    cluster_dict = {}\n",
        "\n",
        "    # Iterate over the indices of cluster_list\n",
        "    for i in range(len(kmeans.labels_)):\n",
        "        cluster_number = kmeans.labels_[i]\n",
        "        stock_name = df.columns[i]\n",
        "\n",
        "        # Check if cluster_number is already a key in the dictionary\n",
        "        if cluster_number in cluster_dict:\n",
        "            cluster_dict[cluster_number].append(stock_name)\n",
        "        else:\n",
        "            cluster_dict[cluster_number] = [stock_name]\n",
        "\n",
        "    fig, ax = plt.subplots(1, 1, figsize=(8, 4))\n",
        "    scatter = ax.scatter(X[:, 0], X[:, 1], c=kmeans.labels_)\n",
        "    unique_labels = {label: idx for idx, label in enumerate(set(kmeans.labels_))}\n",
        "    handles = [plt.Line2D([0], [0], marker='o', color='w', markerfacecolor=scatter.cmap(scatter.norm(value)), markersize=10)\n",
        "           for value in unique_labels.values()]\n",
        "    labels = unique_labels.keys()\n",
        "    ax.legend(handles, labels, title=\"Clusters\", loc=\"best\", bbox_to_anchor=(1, 1))\n",
        "    ax.set_title(f'K-Means Clustering Results with K={num_clusters}')\n",
        "    plt.show()\n",
        "\n",
        "    return cluster_dict\n"
      ]
    },
    {
      "cell_type": "code",
      "execution_count": 16,
      "metadata": {
        "id": "uy5WxWWnwgNC"
      },
      "outputs": [],
      "source": [
        "# Function to find the cointegrated pairs\n",
        "def find_cointegrated_pairs(dataframe, cluster_dict, sig_level):\n",
        "    cointegrated_pairs = []\n",
        "    for cluster_num, stocks in cluster_dict.items():\n",
        "      for stock1, stock2 in combinations(stocks, 2):\n",
        "          pvalue1 = coint(dataframe[stock1], dataframe[stock2])[1]\n",
        "          pvalue2 = coint(dataframe[stock2], dataframe[stock1])[1]\n",
        "          if pvalue1 < sig_level and pvalue2 < sig_level:\n",
        "              cointegrated_pairs.append((stock1, stock2))\n",
        "    return cointegrated_pairs"
      ]
    },
    {
      "cell_type": "code",
      "execution_count": 17,
      "metadata": {},
      "outputs": [],
      "source": [
        "# Function to check on existing pairs\n",
        "def is_still_conintegrated(dataframe, pair, sig_level):\n",
        "    stock1 = pair[0]\n",
        "    stock2 = pair[1]\n",
        "    pvalue1 = coint(dataframe[stock1], dataframe[stock2])[1]\n",
        "    pvalue2 = coint(dataframe[stock2], dataframe[stock1])[1]\n",
        "    if pvalue1 < sig_level and pvalue2 < sig_level:\n",
        "        return True\n",
        "    return False"
      ]
    },
    {
      "cell_type": "code",
      "execution_count": 18,
      "metadata": {},
      "outputs": [],
      "source": [
        "# weekly function to calculate the beta of the pair\n",
        "def calculate_beta_for_pair(dataframe, pair):\n",
        "    asst1 = pair[0]\n",
        "    asst2 = pair[1]\n",
        "\n",
        "    train = dataframe[[asst1, asst2]]\n",
        "\n",
        "    beta = train.cov().iloc[0, 1]/train[asst2].var()\n",
        "    return beta"
      ]
    },
    {
      "cell_type": "code",
      "execution_count": 19,
      "metadata": {},
      "outputs": [],
      "source": [
        "# Function to get the spread data\n",
        "def get_spread_limits_for_past_months(dataframe, pair, beta):\n",
        "    asst1 = pair[0]\n",
        "    asst2 = pair[1]\n",
        "    asst1_mean = dataframe[asst1].mean() \n",
        "    asst2_mean = dataframe[asst2].mean() \n",
        "    spread_data = None\n",
        "    order = []\n",
        "    if asst1_mean > asst2_mean:\n",
        "        spread_data = dataframe[asst1]-beta*dataframe[asst2]\n",
        "        order = [asst1, asst2]\n",
        "    else:\n",
        "        spread_data = dataframe[asst2]-beta*dataframe[asst1]\n",
        "        order = [asst2, asst1]\n",
        "    mean = spread_data.mean()\n",
        "    std_dev = spread_data.std()\n",
        "    lower_limit = mean - (2*std_dev)\n",
        "    upper_limit = mean + (2*std_dev)\n",
        "    \n",
        "    return upper_limit, lower_limit, order\n",
        "    "
      ]
    },
    {
      "cell_type": "code",
      "execution_count": 47,
      "metadata": {},
      "outputs": [],
      "source": [
        "# Monitor a pair for a week\n",
        "\n",
        "def monitor_pair_for_week(dataframe, start_date_index, end_date_index, curr_week_start_index, pair, pair_vals_list):\n",
        "    #[ still_consecutive, [start_dates], [end_date], [[days_to_open_trade]] ]\n",
        "    global prices_with_market\n",
        "    start_date_string = prices_with_market.index[start_date_index].strftime('%Y-%m-%d')\n",
        "    end_date_string = prices_with_market.index[end_date_index].strftime('%Y-%m-%d')\n",
        "    curr_week_date_string = prices_with_market.index[curr_week_start_index].strftime('%Y-%m-%d')\n",
        "    forward_three_months_data = dataframe[start_date_index+7 : end_date_index]\n",
        "    print('____________________________________________________________________')\n",
        "    print(forward_three_months_data.tail())\n",
        "    \n",
        "    if pair_vals_list[0] == True:\n",
        "        past_three_month_data = dataframe[start_date_index : curr_week_start_index]\n",
        "        beta_past_three_months = calculate_beta_for_pair(past_three_month_data, pair)\n",
        "        upper, lower , pair_order = get_spread_limits_for_past_months(past_three_month_data, pair, beta_past_three_months)\n",
        "        curr_week_data = dataframe.tail(7)\n",
        "        curr_week_spread_data = curr_week_data[pair_order[0]]-beta_past_three_months*curr_week_data[pair_order[1]]\n",
        "        for index, value in zip(curr_week_spread_data.index, curr_week_spread_data.values):\n",
        "            date = index.strftime('%Y-%m-%d')\n",
        "            if (value >= upper or value <= lower):\n",
        "                index_to_insert_at = len(pair_vals_list[1]) - 1\n",
        "                pair_vals_list[-1][index_to_insert_at].append(date)\n",
        "  \n",
        "    is_coint = is_still_conintegrated(forward_three_months_data, pair , sig_level=0.05)\n",
        "    if is_coint:\n",
        "        if pair_vals_list[0] == False:\n",
        "            pair_vals_list[1].append(curr_week_date_string)\n",
        "            pair_vals_list[0] = True\n",
        "    else:\n",
        "        if pair_vals_list == True:\n",
        "            pair_vals_list[0] = False\n",
        "            pair_vals_list[2].append(curr_week_date_string)\n",
        "\n",
        "    return pair_vals_list"
      ]
    },
    {
      "cell_type": "code",
      "execution_count": 39,
      "metadata": {},
      "outputs": [],
      "source": [
        "def monitor_group_of_pairs(dataframe, pair_dict, stop_after_weeks):\n",
        "    coint_dict = pair_dict.copy()\n",
        "    weeks_running = 0\n",
        "    while(weeks_running < stop_after_weeks):\n",
        "        # On the first week we don't have any previous data in the pair_dict What do we pass in??? \n",
        "        start_date_index = ((weeks_running+1)*7)\n",
        "        # always add 89 days here\n",
        "        end_date_index = ((weeks_running+1)*7) + 96\n",
        "        curr_week_start_index = ((weeks_running+1)*7) + 89\n",
        "        # Filter the overall df\n",
        "        three_month_plus_one_week_df = dataframe[start_date_index : end_date_index]\n",
        "        for key, value in coint_dict.items():\n",
        "            # end_date = start_date + WEEK            \n",
        "            result = monitor_pair_for_week(three_month_plus_one_week_df, start_date_index, end_date_index, curr_week_start_index, key, value )\n",
        "            # Update pair_dict[pair] with result\n",
        "            coint_dict[key] = result\n",
        "        # Prepping for the next week...\n",
        "        # Train by adding the new data in\n",
        "                        \n",
        "        # Update cointegrated pairs list\n",
        "        #found_pairs = find_contintegrated_pairs() \n",
        "        default_val_list_for_new_pair = [True, [dataframe.index[start_date_index]],[],[[]]]\n",
        "        # for item in found_pairs:\n",
        "            #if coint_dict[item] not in coint_dict:\n",
        "                #otherwise add it as a new key with the default list\n",
        "        weeks_running += 1\n",
        "    return coint_dict"
      ]
    },
    {
      "cell_type": "code",
      "execution_count": 22,
      "metadata": {},
      "outputs": [],
      "source": [
        "# TODO:\n",
        "\n",
        "# STD DEVIATION for the spreads?????\n",
        "\n"
      ]
    },
    {
      "cell_type": "markdown",
      "metadata": {
        "id": "2xgVEn93wgNC"
      },
      "source": [
        "# Testing Functions"
      ]
    },
    {
      "cell_type": "code",
      "execution_count": 23,
      "metadata": {
        "colab": {
          "base_uri": "https://localhost:8080/",
          "height": 373
        },
        "id": "a08q3r-ywgNC",
        "outputId": "7ddda714-7da1-4d44-a201-d7dbb29eb8da"
      },
      "outputs": [
        {
          "data": {
            "text/html": [
              "<div>\n",
              "<style scoped>\n",
              "    .dataframe tbody tr th:only-of-type {\n",
              "        vertical-align: middle;\n",
              "    }\n",
              "\n",
              "    .dataframe tbody tr th {\n",
              "        vertical-align: top;\n",
              "    }\n",
              "\n",
              "    .dataframe thead th {\n",
              "        text-align: right;\n",
              "    }\n",
              "</style>\n",
              "<table border=\"1\" class=\"dataframe\">\n",
              "  <thead>\n",
              "    <tr style=\"text-align: right;\">\n",
              "      <th></th>\n",
              "      <th>ATW</th>\n",
              "      <th>A</th>\n",
              "      <th>AA</th>\n",
              "      <th>AAAB</th>\n",
              "      <th>AABC</th>\n",
              "      <th>AAC1</th>\n",
              "      <th>AACC</th>\n",
              "      <th>AACE</th>\n",
              "      <th>AACH</th>\n",
              "      <th>AADI</th>\n",
              "      <th>...</th>\n",
              "      <th>ZVOI</th>\n",
              "      <th>ZVRA</th>\n",
              "      <th>ZVUE</th>\n",
              "      <th>ZVXI</th>\n",
              "      <th>ZY</th>\n",
              "      <th>ZYME</th>\n",
              "      <th>ZYNE</th>\n",
              "      <th>ZYXI</th>\n",
              "      <th>ZZ</th>\n",
              "      <th>SPY</th>\n",
              "    </tr>\n",
              "    <tr>\n",
              "      <th>date</th>\n",
              "      <th></th>\n",
              "      <th></th>\n",
              "      <th></th>\n",
              "      <th></th>\n",
              "      <th></th>\n",
              "      <th></th>\n",
              "      <th></th>\n",
              "      <th></th>\n",
              "      <th></th>\n",
              "      <th></th>\n",
              "      <th></th>\n",
              "      <th></th>\n",
              "      <th></th>\n",
              "      <th></th>\n",
              "      <th></th>\n",
              "      <th></th>\n",
              "      <th></th>\n",
              "      <th></th>\n",
              "      <th></th>\n",
              "      <th></th>\n",
              "      <th></th>\n",
              "    </tr>\n",
              "  </thead>\n",
              "  <tbody>\n",
              "    <tr>\n",
              "      <th>2000-01-03</th>\n",
              "      <td>8.766</td>\n",
              "      <td>44.275</td>\n",
              "      <td>NaN</td>\n",
              "      <td>8.036</td>\n",
              "      <td>7.791</td>\n",
              "      <td>4.562</td>\n",
              "      <td>NaN</td>\n",
              "      <td>17.000</td>\n",
              "      <td>NaN</td>\n",
              "      <td>NaN</td>\n",
              "      <td>...</td>\n",
              "      <td>NaN</td>\n",
              "      <td>NaN</td>\n",
              "      <td>NaN</td>\n",
              "      <td>3.625</td>\n",
              "      <td>NaN</td>\n",
              "      <td>NaN</td>\n",
              "      <td>NaN</td>\n",
              "      <td>NaN</td>\n",
              "      <td>NaN</td>\n",
              "      <td>93.290154</td>\n",
              "    </tr>\n",
              "    <tr>\n",
              "      <th>2000-01-04</th>\n",
              "      <td>8.913</td>\n",
              "      <td>40.893</td>\n",
              "      <td>NaN</td>\n",
              "      <td>7.619</td>\n",
              "      <td>7.791</td>\n",
              "      <td>4.438</td>\n",
              "      <td>NaN</td>\n",
              "      <td>15.875</td>\n",
              "      <td>NaN</td>\n",
              "      <td>NaN</td>\n",
              "      <td>...</td>\n",
              "      <td>NaN</td>\n",
              "      <td>NaN</td>\n",
              "      <td>NaN</td>\n",
              "      <td>3.500</td>\n",
              "      <td>NaN</td>\n",
              "      <td>NaN</td>\n",
              "      <td>NaN</td>\n",
              "      <td>NaN</td>\n",
              "      <td>NaN</td>\n",
              "      <td>89.641953</td>\n",
              "    </tr>\n",
              "    <tr>\n",
              "      <th>2000-01-05</th>\n",
              "      <td>8.899</td>\n",
              "      <td>37.855</td>\n",
              "      <td>NaN</td>\n",
              "      <td>7.500</td>\n",
              "      <td>7.791</td>\n",
              "      <td>4.438</td>\n",
              "      <td>NaN</td>\n",
              "      <td>16.125</td>\n",
              "      <td>NaN</td>\n",
              "      <td>NaN</td>\n",
              "      <td>...</td>\n",
              "      <td>NaN</td>\n",
              "      <td>NaN</td>\n",
              "      <td>NaN</td>\n",
              "      <td>3.708</td>\n",
              "      <td>NaN</td>\n",
              "      <td>NaN</td>\n",
              "      <td>NaN</td>\n",
              "      <td>NaN</td>\n",
              "      <td>NaN</td>\n",
              "      <td>89.802322</td>\n",
              "    </tr>\n",
              "    <tr>\n",
              "      <th>2000-01-06</th>\n",
              "      <td>9.270</td>\n",
              "      <td>36.896</td>\n",
              "      <td>NaN</td>\n",
              "      <td>7.500</td>\n",
              "      <td>7.791</td>\n",
              "      <td>4.500</td>\n",
              "      <td>NaN</td>\n",
              "      <td>16.125</td>\n",
              "      <td>NaN</td>\n",
              "      <td>NaN</td>\n",
              "      <td>...</td>\n",
              "      <td>NaN</td>\n",
              "      <td>NaN</td>\n",
              "      <td>NaN</td>\n",
              "      <td>3.833</td>\n",
              "      <td>NaN</td>\n",
              "      <td>NaN</td>\n",
              "      <td>NaN</td>\n",
              "      <td>NaN</td>\n",
              "      <td>NaN</td>\n",
              "      <td>88.359032</td>\n",
              "    </tr>\n",
              "    <tr>\n",
              "      <th>2000-01-07</th>\n",
              "      <td>9.508</td>\n",
              "      <td>39.971</td>\n",
              "      <td>NaN</td>\n",
              "      <td>7.738</td>\n",
              "      <td>7.607</td>\n",
              "      <td>4.562</td>\n",
              "      <td>NaN</td>\n",
              "      <td>16.750</td>\n",
              "      <td>NaN</td>\n",
              "      <td>NaN</td>\n",
              "      <td>...</td>\n",
              "      <td>NaN</td>\n",
              "      <td>NaN</td>\n",
              "      <td>NaN</td>\n",
              "      <td>4.167</td>\n",
              "      <td>NaN</td>\n",
              "      <td>NaN</td>\n",
              "      <td>NaN</td>\n",
              "      <td>NaN</td>\n",
              "      <td>NaN</td>\n",
              "      <td>93.490608</td>\n",
              "    </tr>\n",
              "  </tbody>\n",
              "</table>\n",
              "<p>5 rows × 10811 columns</p>\n",
              "</div>"
            ],
            "text/plain": [
              "              ATW       A  AA   AAAB   AABC   AAC1  AACC    AACE  AACH  AADI  \\\n",
              "date                                                                           \n",
              "2000-01-03  8.766  44.275 NaN  8.036  7.791  4.562   NaN  17.000   NaN   NaN   \n",
              "2000-01-04  8.913  40.893 NaN  7.619  7.791  4.438   NaN  15.875   NaN   NaN   \n",
              "2000-01-05  8.899  37.855 NaN  7.500  7.791  4.438   NaN  16.125   NaN   NaN   \n",
              "2000-01-06  9.270  36.896 NaN  7.500  7.791  4.500   NaN  16.125   NaN   NaN   \n",
              "2000-01-07  9.508  39.971 NaN  7.738  7.607  4.562   NaN  16.750   NaN   NaN   \n",
              "\n",
              "            ...  ZVOI  ZVRA  ZVUE   ZVXI  ZY  ZYME  ZYNE  ZYXI  ZZ        SPY  \n",
              "date        ...                                                                \n",
              "2000-01-03  ...   NaN   NaN   NaN  3.625 NaN   NaN   NaN   NaN NaN  93.290154  \n",
              "2000-01-04  ...   NaN   NaN   NaN  3.500 NaN   NaN   NaN   NaN NaN  89.641953  \n",
              "2000-01-05  ...   NaN   NaN   NaN  3.708 NaN   NaN   NaN   NaN NaN  89.802322  \n",
              "2000-01-06  ...   NaN   NaN   NaN  3.833 NaN   NaN   NaN   NaN NaN  88.359032  \n",
              "2000-01-07  ...   NaN   NaN   NaN  4.167 NaN   NaN   NaN   NaN NaN  93.490608  \n",
              "\n",
              "[5 rows x 10811 columns]"
            ]
          },
          "execution_count": 23,
          "metadata": {},
          "output_type": "execute_result"
        }
      ],
      "source": [
        "prices_with_market.head()"
      ]
    },
    {
      "cell_type": "code",
      "execution_count": 24,
      "metadata": {
        "colab": {
          "base_uri": "https://localhost:8080/"
        },
        "id": "6WlBV2KDwgNC",
        "outputId": "2e9868c6-39a8-4e14-e072-274de239d1a0"
      },
      "outputs": [
        {
          "name": "stdout",
          "output_type": "stream",
          "text": [
            "['SCMR', 'LVLT', 'AMAT', 'INTC', 'CSCO', 'JAVA1', 'ORCL', 'DELL1', 'MSFT', 'QCOM']\n"
          ]
        }
      ],
      "source": [
        "start = prices_with_market.index[0]\n",
        "end = prices_with_market.index[89]\n",
        "top_ten = find_top_ten(prices_with_market, start, end)\n",
        "print(top_ten)\n",
        "# check_top_ten(df, start, end, top_ten)\n",
        "# print()"
      ]
    },
    {
      "cell_type": "code",
      "execution_count": 25,
      "metadata": {
        "colab": {
          "base_uri": "https://localhost:8080/"
        },
        "id": "rKCMtBTOwgNC",
        "outputId": "f99d96e1-8147-4d7c-cd1b-ea013660462b"
      },
      "outputs": [
        {
          "name": "stdout",
          "output_type": "stream",
          "text": [
            "['SCMR', 'LVLT', 'AMAT', 'INTC', 'CSCO', 'JAVA1', 'ORCL', 'DELL1', 'MSFT', 'QCOM', 'SPY']\n",
            "['SCMR', 'LVLT', 'AMAT', 'INTC', 'CSCO', 'JAVA1', 'ORCL', 'DELL1', 'MSFT', 'QCOM', 'SPY']\n"
          ]
        }
      ],
      "source": [
        "filtered_diff_df = filter_diff_df(prices_with_market, start, end, top_ten)\n",
        "filtered_diff_df.head()\n",
        "three_month_top_10_price_df = filter_df_by_dates(prices_with_market, start, end, top_ten)"
      ]
    },
    {
      "cell_type": "code",
      "execution_count": 26,
      "metadata": {
        "colab": {
          "base_uri": "https://localhost:8080/",
          "height": 1000
        },
        "id": "S3lbVsBywgNC",
        "outputId": "9e053ff6-2b61-494d-e3c8-9e648e45a58a"
      },
      "outputs": [
        {
          "data": {
            "image/png": "[encoded data removed]",
            "text/plain": [
              "<Figure size 1200x400 with 1 Axes>"
            ]
          },
          "metadata": {},
          "output_type": "display_data"
        },
        {
          "name": "stdout",
          "output_type": "stream",
          "text": [
            "Beta DF:\n",
            "            SCMR_beta  LVLT_beta  AMAT_beta  INTC_beta  CSCO_beta  JAVA1_beta  \\\n",
            "date                                                                            \n",
            "2000-01-04  18.534785    16.6979   0.505713    0.47547    0.68421    2.472595   \n",
            "\n",
            "            ORCL_beta  DELL1_beta  MSFT_beta  QCOM_beta  \n",
            "date                                                     \n",
            "2000-01-04   0.508753    0.451124   0.329182   0.901145  \n",
            "\n",
            "Residual DF:\n",
            "          SCMR       LVLT      AMAT      INTC      CSCO      JAVA1      ORCL  \\\n",
            "0    18.034621 -27.132703  0.701941  0.566611  0.393136  -0.479478 -0.275966   \n",
            "1   -38.805421 -36.427840 -1.021101  0.409749  0.166273  -0.146530 -0.942589   \n",
            "2   -69.081917 -22.850075  0.858890 -1.005758  0.022514  -4.181327 -0.802721   \n",
            "3    13.220332 -54.636554 -2.411103 -1.504913 -1.477076  -4.938308 -1.093706   \n",
            "4     9.055299  55.544447  1.589802  0.927501  1.124552  12.831959  2.377826   \n",
            "..         ...        ...       ...       ...       ...        ...       ...   \n",
            "83  -12.898894 -63.210491  0.496550  0.435915  0.147943   3.616280  0.284149   \n",
            "84   11.710959  -3.908975  0.853468 -0.180869 -2.143492  -5.189420 -0.986610   \n",
            "85   47.638910  62.244178  0.971047  0.568473  2.084758   7.017096  0.486686   \n",
            "86   10.975560 -33.422991 -1.939379 -1.340346 -2.972623  -8.535698 -1.491271   \n",
            "87 -108.279072  19.748507 -1.494042  0.146775  0.501893  -4.686263  0.246189   \n",
            "\n",
            "       DELL1      MSFT      QCOM  \n",
            "0  -2.387211 -0.023079 -2.274443  \n",
            "1   3.071653  0.317209 -1.470516  \n",
            "2  -1.187898 -0.708895 -4.487386  \n",
            "3  -4.034975 -1.241220 -1.423294  \n",
            "4  -2.101690  0.145421  2.750974  \n",
            "..       ...       ...       ...  \n",
            "83  0.505075  0.928424  1.049758  \n",
            "84 -2.266234 -0.261916 -1.973714  \n",
            "85  1.992383 -0.152837  0.006984  \n",
            "86 -1.525226 -0.178771 -1.574217  \n",
            "87 -0.737085 -0.379534  1.307022  \n",
            "\n",
            "[88 rows x 10 columns]\n"
          ]
        }
      ],
      "source": [
        "beta_df = calculate_betas(filtered_diff_df, start, end, top_ten)\n",
        "print('Beta DF:')\n",
        "print(beta_df)\n",
        "print()\n",
        "\n",
        "merged_df = filtered_diff_df.merge(beta_df, how = 'cross')\n",
        "\n",
        "print('Residual DF:')\n",
        "res_df = calculate_residuals(merged_df, top_ten)\n",
        "print(res_df)"
      ]
    },
    {
      "cell_type": "code",
      "execution_count": 27,
      "metadata": {
        "colab": {
          "base_uri": "https://localhost:8080/",
          "height": 565
        },
        "id": "C9zbM6uEwgNC",
        "outputId": "774f501a-4a96-4761-ad7c-a1ae0c8a06df"
      },
      "outputs": [
        {
          "name": "stdout",
          "output_type": "stream",
          "text": [
            "A Shape: (10, 10)\n",
            "D Shape: (10, 10)\n",
            "L Shape: (10, 10)\n",
            "X Shape: (10, 4)\n",
            "Kmeans Labels:\n",
            "[1 1 2 1 0 3 1 1 1 1]\n",
            "Index(['SCMR', 'LVLT', 'AMAT', 'INTC', 'CSCO', 'JAVA1', 'ORCL', 'DELL1',\n",
            "       'MSFT', 'QCOM'],\n",
            "      dtype='object')\n"
          ]
        },
        {
          "data": {
            "image/png": "[encoded data removed]",
            "text/plain": [
              "<Figure size 800x400 with 1 Axes>"
            ]
          },
          "metadata": {},
          "output_type": "display_data"
        }
      ],
      "source": [
        "cluster_dictionary_for_top_10 = cluster_the_matrix(res_df, 4)"
      ]
    },
    {
      "cell_type": "code",
      "execution_count": 28,
      "metadata": {
        "colab": {
          "base_uri": "https://localhost:8080/"
        },
        "id": "X5RXYjkkwgNC",
        "outputId": "4948c41d-5fb9-43e3-8f66-9fcd55122c46"
      },
      "outputs": [
        {
          "data": {
            "text/plain": [
              "[('INTC', 'ORCL')]"
            ]
          },
          "execution_count": 28,
          "metadata": {},
          "output_type": "execute_result"
        }
      ],
      "source": [
        "coint_pairs_from_top_10 = find_cointegrated_pairs(three_month_top_10_price_df, cluster_dictionary_for_top_10, 0.05)\n",
        "coint_pairs_from_top_10"
      ]
    },
    {
      "cell_type": "code",
      "execution_count": 29,
      "metadata": {},
      "outputs": [],
      "source": [
        "pair_dict = {\n",
        "        # [ still_consecutive, [start_dates], [end_date], times_correct, weeks_counted, curr_accuracy, [accuracy] ]\n",
        "        ('INTC', 'ORCL') : [ True, ['2000-04-4'], [], 0, 0, 0, [] ]\n",
        "    }"
      ]
    },
    {
      "cell_type": "code",
      "execution_count": 30,
      "metadata": {},
      "outputs": [
        {
          "data": {
            "text/plain": [
              "date\n",
              "2000-01-03    24.208\n",
              "2000-01-04    22.076\n",
              "2000-01-05    21.215\n",
              "2000-01-06    19.678\n",
              "2000-01-07    21.195\n",
              "               ...  \n",
              "2000-05-04    30.439\n",
              "2000-05-05    31.488\n",
              "2000-05-08    29.644\n",
              "2000-05-09    29.517\n",
              "2000-05-10    27.725\n",
              "Name: ORCL, Length: 90, dtype: float64"
            ]
          },
          "execution_count": 30,
          "metadata": {},
          "output_type": "execute_result"
        }
      ],
      "source": [
        "three_month_top_10_price_df['ORCL']"
      ]
    },
    {
      "cell_type": "code",
      "execution_count": 31,
      "metadata": {},
      "outputs": [
        {
          "data": {
            "text/plain": [
              "date\n",
              "2000-01-03    25.042\n",
              "2000-01-04    23.874\n",
              "2000-01-05    24.360\n",
              "2000-01-06    22.668\n",
              "2000-01-07    23.603\n",
              "               ...  \n",
              "2000-05-04    34.445\n",
              "2000-05-05    35.539\n",
              "2000-05-08    33.869\n",
              "2000-05-09    33.667\n",
              "2000-05-10    30.557\n",
              "Name: INTC, Length: 90, dtype: float64"
            ]
          },
          "execution_count": 31,
          "metadata": {},
          "output_type": "execute_result"
        }
      ],
      "source": [
        "three_month_top_10_price_df['INTC']"
      ]
    },
    {
      "cell_type": "code",
      "execution_count": 32,
      "metadata": {},
      "outputs": [
        {
          "name": "stdout",
          "output_type": "stream",
          "text": [
            "date\n",
            "2000-01-03   -0.123972\n",
            "2000-01-04   -1.121089\n",
            "2000-01-05   -2.454310\n",
            "2000-01-06   -2.347284\n",
            "2000-01-07   -1.738773\n",
            "                ...   \n",
            "2000-05-04   -3.029365\n",
            "2000-05-05   -3.043346\n",
            "2000-05-08   -3.264696\n",
            "2000-05-09   -3.195424\n",
            "2000-05-10   -1.965603\n",
            "Length: 90, dtype: float64\n"
          ]
        }
      ],
      "source": [
        "asst1 = 'ORCL'\n",
        "asst2 = 'INTC'\n",
        "\n",
        "train = three_month_top_10_price_df[[asst1, asst2]]\n",
        "\n",
        "beta = train.cov().iloc[0, 1]/train[asst2].var()\n",
        "train_spread = train[asst1]-beta*train[asst2]\n",
        "#test_spread = test[asst1]-beta*test[asst2]\n",
        "\n",
        "print(train_spread)"
      ]
    },
    {
      "cell_type": "code",
      "execution_count": 33,
      "metadata": {},
      "outputs": [
        {
          "name": "stdout",
          "output_type": "stream",
          "text": [
            "              ORCL    INTC\n",
            "date                      \n",
            "2000-01-03  24.208  25.042\n",
            "2000-01-04  22.076  23.874\n",
            "2000-01-05  21.215  24.360\n",
            "2000-01-06  19.678  22.668\n",
            "2000-01-07  21.195  23.603\n",
            "\n",
            "-1.9656030991385762\n",
            "-2.6770280125542634\n",
            "-1.76693316240042\n",
            "-1.482613516084708\n",
            "-1.6475948228379096\n",
            "-2.4219622725933476\n",
            "-4.720263225662265\n"
          ]
        }
      ],
      "source": [
        "days_to_monitor = 7\n",
        "\n",
        "whole_data = prices_with_market[[asst1,asst2]]\n",
        "print(whole_data.head())\n",
        "print()\n",
        "\n",
        "date_to_start = whole_data.index[89]\n",
        "for day in range(days_to_monitor):\n",
        "    current_date = pd.to_datetime(whole_data.index[89 + day]).strftime(\"%Y-%m-%d\")\n",
        "    day_df = whole_data.loc[current_date]\n",
        "    train_spread = day_df[asst1]-beta*day_df[asst2]\n",
        "    print(train_spread)\n"
      ]
    },
    {
      "cell_type": "code",
      "execution_count": 53,
      "metadata": {},
      "outputs": [
        {
          "name": "stdout",
          "output_type": "stream",
          "text": [
            "____________________________________________________________________\n",
            "               ATW       A  AA   AAAB   AABC  AAC1  AACC    AACE  AACH  AADI  \\\n",
            "date                                                                           \n",
            "2000-05-23  14.142  35.666 NaN  5.357  5.889   NaN   NaN  15.000   NaN   NaN   \n",
            "2000-05-24  13.520  36.281 NaN  5.476  5.950   NaN   NaN  15.125   NaN   NaN   \n",
            "2000-05-25  13.370  42.277 NaN  5.952  6.196   NaN   NaN  14.938   NaN   NaN   \n",
            "2000-05-26  12.895  39.971 NaN  5.595  6.196   NaN   NaN  13.062   NaN   NaN   \n",
            "2000-05-30  12.864  46.354 NaN  5.655  5.950   NaN   NaN  14.312   NaN   NaN   \n",
            "\n",
            "            ...  ZVOI  ZVRA  ZVUE   ZVXI  ZY  ZYME  ZYNE  ZYXI  ZZ  SPY  \n",
            "date        ...                                                          \n",
            "2000-05-23  ...   NaN   NaN   NaN  4.250 NaN   NaN   NaN   NaN NaN  NaN  \n",
            "2000-05-24  ...   NaN   NaN   NaN  4.042 NaN   NaN   NaN   NaN NaN  NaN  \n",
            "2000-05-25  ...   NaN   NaN   NaN  4.000 NaN   NaN   NaN   NaN NaN  NaN  \n",
            "2000-05-26  ...   NaN   NaN   NaN  3.208 NaN   NaN   NaN   NaN NaN  NaN  \n",
            "2000-05-30  ...   NaN   NaN   NaN  3.292 NaN   NaN   NaN   NaN NaN  NaN  \n",
            "\n",
            "[5 rows x 10811 columns]\n",
            "____________________________________________________________________\n",
            "               ATW       A  AA   AAAB   AABC  AAC1  AACC    AACE  AACH  AADI  \\\n",
            "date                                                                           \n",
            "2000-06-02  12.671  50.271 NaN  5.714  6.380   NaN   NaN  15.375   NaN   NaN   \n",
            "2000-06-05  12.032  48.580 NaN  5.774  6.502   NaN   NaN  15.812   NaN   NaN   \n",
            "2000-06-06  12.227  43.660 NaN  5.774  6.380   NaN   NaN  16.000   NaN   NaN   \n",
            "2000-06-07  11.839  41.201 NaN  5.774  6.380   NaN   NaN  16.000   NaN   NaN   \n",
            "2000-06-08  12.286  42.511 NaN  5.833  6.318   NaN   NaN  15.875   NaN   NaN   \n",
            "\n",
            "            ...  ZVOI  ZVRA  ZVUE   ZVXI  ZY  ZYME  ZYNE  ZYXI  ZZ  SPY  \n",
            "date        ...                                                          \n",
            "2000-06-02  ...   NaN   NaN   NaN  4.333 NaN   NaN   NaN   NaN NaN  NaN  \n",
            "2000-06-05  ...   NaN   NaN   NaN  4.500 NaN   NaN   NaN   NaN NaN  NaN  \n",
            "2000-06-06  ...   NaN   NaN   NaN  4.583 NaN   NaN   NaN   NaN NaN  NaN  \n",
            "2000-06-07  ...   NaN   NaN   NaN  4.375 NaN   NaN   NaN   NaN NaN  NaN  \n",
            "2000-06-08  ...   NaN   NaN   NaN  4.458 NaN   NaN   NaN   NaN NaN  NaN  \n",
            "\n",
            "[5 rows x 10811 columns]\n",
            "____________________________________________________________________\n",
            "               ATW       A  AA   AAAB   AABC  AAC1  AACC    AACE  AACH  AADI  \\\n",
            "date                                                                           \n",
            "2000-06-13  12.507  42.467 NaN  5.952  6.257   NaN   NaN  13.062   NaN   NaN   \n",
            "2000-06-14  12.360  41.662 NaN  5.714  6.257   NaN   NaN  13.125   NaN   NaN   \n",
            "2000-06-15  12.094  40.549 NaN  5.714  6.380   NaN   NaN  13.562   NaN   NaN   \n",
            "2000-06-16  12.331  38.513 NaN  5.714  6.380   NaN   NaN  13.312   NaN   NaN   \n",
            "2000-06-19  11.661  41.816 NaN  5.833  6.318   NaN   NaN  13.125   NaN   NaN   \n",
            "\n",
            "            ...  ZVOI  ZVRA  ZVUE   ZVXI  ZY  ZYME  ZYNE  ZYXI  ZZ  SPY  \n",
            "date        ...                                                          \n",
            "2000-06-13  ...   NaN   NaN   NaN  4.208 NaN   NaN   NaN   NaN NaN  NaN  \n",
            "2000-06-14  ...   NaN   NaN   NaN  4.000 NaN   NaN   NaN   NaN NaN  NaN  \n",
            "2000-06-15  ...   NaN   NaN   NaN  4.083 NaN   NaN   NaN   NaN NaN  NaN  \n",
            "2000-06-16  ...   NaN   NaN   NaN  4.042 NaN   NaN   NaN   NaN NaN  NaN  \n",
            "2000-06-19  ...   NaN   NaN   NaN  4.000 NaN   NaN   NaN   NaN NaN  NaN  \n",
            "\n",
            "[5 rows x 10811 columns]\n",
            "____________________________________________________________________\n",
            "               ATW       A  AA  AAAB   AABC  AAC1  AACC    AACE  AACH  AADI  \\\n",
            "date                                                                          \n",
            "2000-06-22  10.755  46.581 NaN  6.25  6.318   NaN   NaN  12.375   NaN   NaN   \n",
            "2000-06-23  10.487  46.200 NaN  6.31  6.196   NaN   NaN  12.500   NaN   NaN   \n",
            "2000-06-26  10.116  46.200 NaN  6.25  6.380   NaN   NaN  12.375   NaN   NaN   \n",
            "2000-06-27  10.147  46.391 NaN  6.31  6.380   NaN   NaN  11.625   NaN   NaN   \n",
            "2000-06-28  10.057  48.887 NaN  6.31  6.380   NaN   NaN  11.938   NaN   NaN   \n",
            "\n",
            "            ...  ZVOI  ZVRA  ZVUE   ZVXI  ZY  ZYME  ZYNE  ZYXI  ZZ  SPY  \n",
            "date        ...                                                          \n",
            "2000-06-22  ...   NaN   NaN   NaN  3.833 NaN   NaN   NaN   NaN NaN  NaN  \n",
            "2000-06-23  ...   NaN   NaN   NaN  3.833 NaN   NaN   NaN   NaN NaN  NaN  \n",
            "2000-06-26  ...   NaN   NaN   NaN  3.667 NaN   NaN   NaN   NaN NaN  NaN  \n",
            "2000-06-27  ...   NaN   NaN   NaN  3.500 NaN   NaN   NaN   NaN NaN  NaN  \n",
            "2000-06-28  ...   NaN   NaN   NaN  3.417 NaN   NaN   NaN   NaN NaN  NaN  \n",
            "\n",
            "[5 rows x 10811 columns]\n",
            "____________________________________________________________________\n",
            "               ATW       A  AA   AAAB   AABC  AAC1  AACC    AACE  AACH  AADI  \\\n",
            "date                                                                           \n",
            "2000-07-03  10.919  45.315 NaN  7.143  6.257   NaN   NaN  11.875   NaN   NaN   \n",
            "2000-07-05   9.805  43.199 NaN  7.262  6.073   NaN   NaN  11.625   NaN   NaN   \n",
            "2000-07-06   9.004  42.511 NaN  7.143  6.073   NaN   NaN  11.750   NaN   NaN   \n",
            "2000-07-07   9.032  41.508 NaN  7.500  6.380   NaN   NaN  11.688   NaN   NaN   \n",
            "2000-07-10   8.885  42.123 NaN  7.560  6.380   NaN   NaN  11.250   NaN   NaN   \n",
            "\n",
            "            ...  ZVOI  ZVRA  ZVUE   ZVXI  ZY  ZYME  ZYNE  ZYXI  ZZ  SPY  \n",
            "date        ...                                                          \n",
            "2000-07-03  ...   NaN   NaN   NaN  3.667 NaN   NaN   NaN   NaN NaN  NaN  \n",
            "2000-07-05  ...   NaN   NaN   NaN  3.792 NaN   NaN   NaN   NaN NaN  NaN  \n",
            "2000-07-06  ...   NaN   NaN   NaN  4.167 NaN   NaN   NaN   NaN NaN  NaN  \n",
            "2000-07-07  ...   NaN   NaN   NaN  4.292 NaN   NaN   NaN   NaN NaN  NaN  \n",
            "2000-07-10  ...   NaN   NaN   NaN  4.292 NaN   NaN   NaN   NaN NaN  NaN  \n",
            "\n",
            "[5 rows x 10811 columns]\n",
            "____________________________________________________________________\n",
            "               ATW       A  AA   AAAB   AABC  AAC1  AACC    AACE  AACH  AADI  \\\n",
            "date                                                                           \n",
            "2000-07-13  10.087  43.660 NaN  7.500  6.134   NaN   NaN  11.562   NaN   NaN   \n",
            "2000-07-14  10.339  47.387 NaN  7.262  6.134   NaN   NaN  11.562   NaN   NaN   \n",
            "2000-07-17  10.102  48.119 NaN  7.619  6.134   NaN   NaN  11.562   NaN   NaN   \n",
            "2000-07-18  10.444  47.123 NaN  7.262  6.380   NaN   NaN  11.375   NaN   NaN   \n",
            "2000-07-19  10.487  45.542 NaN  7.262  6.134   NaN   NaN  11.500   NaN   NaN   \n",
            "\n",
            "            ...  ZVOI  ZVRA  ZVUE   ZVXI  ZY  ZYME  ZYNE  ZYXI  ZZ  SPY  \n",
            "date        ...                                                          \n",
            "2000-07-13  ...   NaN   NaN   NaN  4.542 NaN   NaN   NaN   NaN NaN  NaN  \n",
            "2000-07-14  ...   NaN   NaN   NaN  4.667 NaN   NaN   NaN   NaN NaN  NaN  \n",
            "2000-07-17  ...   NaN   NaN   NaN  5.292 NaN   NaN   NaN   NaN NaN  NaN  \n",
            "2000-07-18  ...   NaN   NaN   NaN  5.583 NaN   NaN   NaN   NaN NaN  NaN  \n",
            "2000-07-19  ...   NaN   NaN   NaN  5.583 NaN   NaN   NaN   NaN NaN  NaN  \n",
            "\n",
            "[5 rows x 10811 columns]\n",
            "____________________________________________________________________\n",
            "               ATW       A  AA   AAAB   AABC  AAC1  AACC    AACE  AACH  AADI  \\\n",
            "date                                                                           \n",
            "2000-07-24   9.122  30.439 NaN  7.619  6.134   NaN   NaN  11.500   NaN   NaN   \n",
            "2000-07-25   8.899  27.518 NaN  7.024  6.134   NaN   NaN  11.500   NaN   NaN   \n",
            "2000-07-26   9.241  26.442 NaN  7.262  6.134   NaN   NaN  11.625   NaN   NaN   \n",
            "2000-07-27   9.783  25.059 NaN  7.262  6.134   NaN   NaN  11.562   NaN   NaN   \n",
            "2000-07-28  10.042  25.366 NaN  7.500  5.889   NaN   NaN  11.625   NaN   NaN   \n",
            "\n",
            "            ...  ZVOI  ZVRA  ZVUE   ZVXI  ZY  ZYME  ZYNE  ZYXI  ZZ  SPY  \n",
            "date        ...                                                          \n",
            "2000-07-24  ...   NaN   NaN   NaN  5.000 NaN   NaN   NaN   NaN NaN  NaN  \n",
            "2000-07-25  ...   NaN   NaN   NaN  5.000 NaN   NaN   NaN   NaN NaN  NaN  \n",
            "2000-07-26  ...   NaN   NaN   NaN  5.083 NaN   NaN   NaN   NaN NaN  NaN  \n",
            "2000-07-27  ...   NaN   NaN   NaN  5.167 NaN   NaN   NaN   NaN NaN  NaN  \n",
            "2000-07-28  ...   NaN   NaN   NaN  5.375 NaN   NaN   NaN   NaN NaN  NaN  \n",
            "\n",
            "[5 rows x 10811 columns]\n",
            "____________________________________________________________________\n",
            "               ATW       A  AA   AAAB   AABC  AAC1  AACC    AACE  AACH  AADI  \\\n",
            "date                                                                           \n",
            "2000-08-02  10.192  24.677 NaN  7.738  5.889   NaN   NaN  11.500   NaN   NaN   \n",
            "2000-08-03   9.536  25.212 NaN  8.095  5.889   NaN   NaN  11.438   NaN   NaN   \n",
            "2000-08-04   9.329  24.634 NaN  7.619  5.889   NaN   NaN  10.375   NaN   NaN   \n",
            "2000-08-07   9.824  24.444 NaN  8.214  5.889   NaN   NaN  10.875   NaN   NaN   \n",
            "2000-08-08   9.626  23.866 NaN  8.214  5.889   NaN   NaN  10.875   NaN   NaN   \n",
            "\n",
            "            ...  ZVOI  ZVRA  ZVUE   ZVXI  ZY  ZYME  ZYNE  ZYXI  ZZ  SPY  \n",
            "date        ...                                                          \n",
            "2000-08-02  ...   NaN   NaN   NaN  5.333 NaN   NaN   NaN   NaN NaN  NaN  \n",
            "2000-08-03  ...   NaN   NaN   NaN  5.167 NaN   NaN   NaN   NaN NaN  NaN  \n",
            "2000-08-04  ...   NaN   NaN   NaN  5.167 NaN   NaN   NaN   NaN NaN  NaN  \n",
            "2000-08-07  ...   NaN   NaN   NaN  5.458 NaN   NaN   NaN   NaN NaN  NaN  \n",
            "2000-08-08  ...   NaN   NaN   NaN  5.542 NaN   NaN   NaN   NaN NaN  NaN  \n",
            "\n",
            "[5 rows x 10811 columns]\n",
            "____________________________________________________________________\n",
            "               ATW       A  AA   AAAB   AABC  AAC1  AACC   AACE  AACH  AADI  \\\n",
            "date                                                                          \n",
            "2000-08-11   9.612  24.985 NaN  8.155  6.196   NaN   NaN  9.750   NaN   NaN   \n",
            "2000-08-14  10.147  26.750 NaN  8.452  6.012   NaN   NaN  9.562   NaN   NaN   \n",
            "2000-08-15   9.983  26.442 NaN  8.571  6.073   NaN   NaN  9.875   NaN   NaN   \n",
            "2000-08-16  10.116  26.750 NaN  8.810  6.012   NaN   NaN  9.438   NaN   NaN   \n",
            "2000-08-17  10.741  28.595 NaN  8.929  6.012   NaN   NaN  9.125   NaN   NaN   \n",
            "\n",
            "            ...  ZVOI  ZVRA  ZVUE   ZVXI  ZY  ZYME  ZYNE  ZYXI  ZZ  SPY  \n",
            "date        ...                                                          \n",
            "2000-08-11  ...   NaN   NaN   NaN  5.792 NaN   NaN   NaN   NaN NaN  NaN  \n",
            "2000-08-14  ...   NaN   NaN   NaN  5.625 NaN   NaN   NaN   NaN NaN  NaN  \n",
            "2000-08-15  ...   NaN   NaN   NaN  5.667 NaN   NaN   NaN   NaN NaN  NaN  \n",
            "2000-08-16  ...   NaN   NaN   NaN  5.667 NaN   NaN   NaN   NaN NaN  NaN  \n",
            "2000-08-17  ...   NaN   NaN   NaN  5.667 NaN   NaN   NaN   NaN NaN  NaN  \n",
            "\n",
            "[5 rows x 10811 columns]\n",
            "____________________________________________________________________\n",
            "               ATW       A  AA   AAAB  AABC  AAC1  AACC    AACE  AACH  AADI  \\\n",
            "date                                                                          \n",
            "2000-08-22  11.007  37.204 NaN  8.810  6.38   NaN   NaN   9.000   NaN   NaN   \n",
            "2000-08-23  11.231  37.204 NaN  8.333  5.95   NaN   NaN   9.000   NaN   NaN   \n",
            "2000-08-24  11.157  36.742 NaN  8.333  5.95   NaN   NaN   9.375   NaN   NaN   \n",
            "2000-08-25  11.038  35.974 NaN  8.452  5.95   NaN   NaN   9.875   NaN   NaN   \n",
            "2000-08-28  11.038  36.054 NaN  8.571  5.95   NaN   NaN  10.125   NaN   NaN   \n",
            "\n",
            "            ...  ZVOI  ZVRA  ZVUE   ZVXI  ZY  ZYME  ZYNE  ZYXI  ZZ  SPY  \n",
            "date        ...                                                          \n",
            "2000-08-22  ...   NaN   NaN   NaN  5.417 NaN   NaN   NaN   NaN NaN  NaN  \n",
            "2000-08-23  ...   NaN   NaN   NaN  5.500 NaN   NaN   NaN   NaN NaN  NaN  \n",
            "2000-08-24  ...   NaN   NaN   NaN  5.292 NaN   NaN   NaN   NaN NaN  NaN  \n",
            "2000-08-25  ...   NaN   NaN   NaN  4.917 NaN   NaN   NaN   NaN NaN  NaN  \n",
            "2000-08-28  ...   NaN   NaN   NaN  4.833 NaN   NaN   NaN   NaN NaN  NaN  \n",
            "\n",
            "[5 rows x 10811 columns]\n",
            "____________________________________________________________________\n",
            "               ATW       A  AA   AAAB   AABC  AAC1  AACC    AACE  AACH  AADI  \\\n",
            "date                                                                           \n",
            "2000-08-31  10.786  37.511 NaN  8.750  6.012   NaN   NaN  10.750   NaN   NaN   \n",
            "2000-09-01  10.710  38.052 NaN  8.750  5.950   NaN   NaN  10.438   NaN   NaN   \n",
            "2000-09-05  10.606  38.009 NaN  8.571  5.950   NaN   NaN  10.188   NaN   NaN   \n",
            "2000-09-06  11.231  36.896 NaN  8.452  6.088   NaN   NaN   9.688   NaN   NaN   \n",
            "2000-09-07  11.438  38.052 NaN  8.452  6.196   NaN   NaN  10.188   NaN   NaN   \n",
            "\n",
            "            ...  ZVOI  ZVRA  ZVUE   ZVXI  ZY  ZYME  ZYNE  ZYXI  ZZ  SPY  \n",
            "date        ...                                                          \n",
            "2000-08-31  ...   NaN   NaN   NaN  4.750 NaN   NaN   NaN   NaN NaN  NaN  \n",
            "2000-09-01  ...   NaN   NaN   NaN  4.500 NaN   NaN   NaN   NaN NaN  NaN  \n",
            "2000-09-05  ...   NaN   NaN   NaN  4.667 NaN   NaN   NaN   NaN NaN  NaN  \n",
            "2000-09-06  ...   NaN   NaN   NaN  4.833 NaN   NaN   NaN   NaN NaN  NaN  \n",
            "2000-09-07  ...   NaN   NaN   NaN  4.708 NaN   NaN   NaN   NaN NaN  NaN  \n",
            "\n",
            "[5 rows x 10811 columns]\n",
            "____________________________________________________________________\n",
            "               ATW       A  AA   AAAB   AABC  AAC1  AACC    AACE  AACH  AADI  \\\n",
            "date                                                                           \n",
            "2000-09-12  11.989  33.821 NaN  8.452  6.012   NaN   NaN  11.750   NaN   NaN   \n",
            "2000-09-13  11.751  33.821 NaN  8.452  6.012   NaN   NaN  11.500   NaN   NaN   \n",
            "2000-09-14  11.423  34.283 NaN  8.333  6.012   NaN   NaN  11.125   NaN   NaN   \n",
            "2000-09-15  11.186  35.051 NaN  8.333  6.073   NaN   NaN  11.375   NaN   NaN   \n",
            "2000-09-18  10.919  33.207 NaN  8.452  6.012   NaN   NaN  10.500   NaN   NaN   \n",
            "\n",
            "            ...  ZVOI  ZVRA  ZVUE   ZVXI  ZY  ZYME  ZYNE  ZYXI  ZZ  SPY  \n",
            "date        ...                                                          \n",
            "2000-09-12  ...   NaN   NaN   NaN  4.771 NaN   NaN   NaN   NaN NaN  NaN  \n",
            "2000-09-13  ...   NaN   NaN   NaN  4.667 NaN   NaN   NaN   NaN NaN  NaN  \n",
            "2000-09-14  ...   NaN   NaN   NaN  4.667 NaN   NaN   NaN   NaN NaN  NaN  \n",
            "2000-09-15  ...   NaN   NaN   NaN  4.667 NaN   NaN   NaN   NaN NaN  NaN  \n",
            "2000-09-18  ...   NaN   NaN   NaN  4.625 NaN   NaN   NaN   NaN NaN  NaN  \n",
            "\n",
            "[5 rows x 10811 columns]\n",
            "____________________________________________________________________\n",
            "Empty DataFrame\n",
            "Columns: [ATW, A, AA, AAAB, AABC, AAC1, AACC, AACE, AACH, AADI, AAI, AAIIQ, AAIIQ1, AAL, AAME, AAMRQ, AAN, AANB, AAOI, AAON, AAP, AAPC, AAPL, AAT, AATC, AATI, AATT, AAWHQ, AAWW, AB, ABAN, ABAT1, ABAX, ABBC, ABBK, ABBV, ABCB, ABCD, ABCL, ABCL1, ABCO, ABCRQ, ABCW, ABCWQ, ABDC, ABDS, ABF, ABFIQ, ABG, ABGI, ABGX, ABHH, ABI1, ABII, ABIO, ABIO1, ABIX, ABIZQ, ABKFQ, ABLSQ, ABM, ABMC, ABMD, ABNB, ABNJ, ABNK1, ABOS, ABP1, ABPI, ABS, ABSC, ABSI, ABT, ABTE, ABTX, ABTXQ, ABUS, ABVA, ABVC, ABVT, ABWG, ABWTQ, AC, ACA, ACAD, ACAM1, ACAP, ACAS, ACAT, ACBA1, ACBI, ACC, ACCD, ACCD1, ACCL, ACCO, ACDO, ACEC, ACEE, ACEI, ...]\n",
            "Index: []\n",
            "\n",
            "[0 rows x 10811 columns]\n"
          ]
        },
        {
          "ename": "ValueError",
          "evalue": "zero-size array to reduction operation maximum which has no identity",
          "output_type": "error",
          "traceback": [
            "\u001b[0;31m---------------------------------------------------------------------------\u001b[0m",
            "\u001b[0;31mValueError\u001b[0m                                Traceback (most recent call last)",
            "Cell \u001b[0;32mIn[53], line 5\u001b[0m\n\u001b[1;32m      1\u001b[0m pair_dict \u001b[39m=\u001b[39m {\n\u001b[1;32m      2\u001b[0m         \u001b[39m# [ still_consecutive, [start_dates], [end_date] weeks_counted, [[days_to_open_trade]] ]\u001b[39;00m\n\u001b[1;32m      3\u001b[0m         (\u001b[39m'\u001b[39m\u001b[39mINTC\u001b[39m\u001b[39m'\u001b[39m, \u001b[39m'\u001b[39m\u001b[39mORCL\u001b[39m\u001b[39m'\u001b[39m) : [ \u001b[39mTrue\u001b[39;00m, [\u001b[39m'\u001b[39m\u001b[39m2000-04-4\u001b[39m\u001b[39m'\u001b[39m], [], [[]] ]\n\u001b[1;32m      4\u001b[0m     }\n\u001b[0;32m----> 5\u001b[0m monitor_group_of_pairs(prices_with_market, pair_dict, \u001b[39m20\u001b[39;49m)\n\u001b[1;32m      6\u001b[0m \u001b[39m# We know it's working right but we are corcerned about the is_coint function elimating possible trade days?\u001b[39;00m\n",
            "Cell \u001b[0;32mIn[39], line 14\u001b[0m, in \u001b[0;36mmonitor_group_of_pairs\u001b[0;34m(dataframe, pair_dict, stop_after_weeks)\u001b[0m\n\u001b[1;32m     11\u001b[0m three_month_plus_one_week_df \u001b[39m=\u001b[39m dataframe[start_date_index : end_date_index]\n\u001b[1;32m     12\u001b[0m \u001b[39mfor\u001b[39;00m key, value \u001b[39min\u001b[39;00m coint_dict\u001b[39m.\u001b[39mitems():\n\u001b[1;32m     13\u001b[0m     \u001b[39m# end_date = start_date + WEEK            \u001b[39;00m\n\u001b[0;32m---> 14\u001b[0m     result \u001b[39m=\u001b[39m monitor_pair_for_week(three_month_plus_one_week_df, start_date_index, end_date_index, curr_week_start_index, key, value )\n\u001b[1;32m     15\u001b[0m     \u001b[39m# Update pair_dict[pair] with result\u001b[39;00m\n\u001b[1;32m     16\u001b[0m     coint_dict[key] \u001b[39m=\u001b[39m result\n",
            "Cell \u001b[0;32mIn[47], line 25\u001b[0m, in \u001b[0;36mmonitor_pair_for_week\u001b[0;34m(dataframe, start_date_index, end_date_index, curr_week_start_index, pair, pair_vals_list)\u001b[0m\n\u001b[1;32m     22\u001b[0m             index_to_insert_at \u001b[39m=\u001b[39m \u001b[39mlen\u001b[39m(pair_vals_list[\u001b[39m1\u001b[39m]) \u001b[39m-\u001b[39m \u001b[39m1\u001b[39m\n\u001b[1;32m     23\u001b[0m             pair_vals_list[\u001b[39m-\u001b[39m\u001b[39m1\u001b[39m][index_to_insert_at]\u001b[39m.\u001b[39mappend(date)\n\u001b[0;32m---> 25\u001b[0m is_coint \u001b[39m=\u001b[39m is_still_conintegrated(forward_three_months_data, pair , sig_level\u001b[39m=\u001b[39;49m\u001b[39m0.05\u001b[39;49m)\n\u001b[1;32m     26\u001b[0m \u001b[39mif\u001b[39;00m is_coint:\n\u001b[1;32m     27\u001b[0m     \u001b[39mif\u001b[39;00m pair_vals_list[\u001b[39m0\u001b[39m] \u001b[39m==\u001b[39m \u001b[39mFalse\u001b[39;00m:\n",
            "Cell \u001b[0;32mIn[17], line 5\u001b[0m, in \u001b[0;36mis_still_conintegrated\u001b[0;34m(dataframe, pair, sig_level)\u001b[0m\n\u001b[1;32m      3\u001b[0m stock1 \u001b[39m=\u001b[39m pair[\u001b[39m0\u001b[39m]\n\u001b[1;32m      4\u001b[0m stock2 \u001b[39m=\u001b[39m pair[\u001b[39m1\u001b[39m]\n\u001b[0;32m----> 5\u001b[0m pvalue1 \u001b[39m=\u001b[39m coint(dataframe[stock1], dataframe[stock2])[\u001b[39m1\u001b[39m]\n\u001b[1;32m      6\u001b[0m pvalue2 \u001b[39m=\u001b[39m coint(dataframe[stock2], dataframe[stock1])[\u001b[39m1\u001b[39m]\n\u001b[1;32m      7\u001b[0m \u001b[39mif\u001b[39;00m pvalue1 \u001b[39m<\u001b[39m sig_level \u001b[39mand\u001b[39;00m pvalue2 \u001b[39m<\u001b[39m sig_level:\n",
            "File \u001b[0;32m/Library/Frameworks/Python.framework/Versions/3.11/lib/python3.11/site-packages/statsmodels/tsa/stattools.py:1801\u001b[0m, in \u001b[0;36mcoint\u001b[0;34m(y0, y1, trend, method, maxlag, autolag, return_results)\u001b[0m\n\u001b[1;32m   1799\u001b[0m     xx \u001b[39m=\u001b[39m y1\n\u001b[1;32m   1800\u001b[0m \u001b[39melse\u001b[39;00m:\n\u001b[0;32m-> 1801\u001b[0m     xx \u001b[39m=\u001b[39m add_trend(y1, trend\u001b[39m=\u001b[39;49mtrend, prepend\u001b[39m=\u001b[39;49m\u001b[39mFalse\u001b[39;49;00m)\n\u001b[1;32m   1803\u001b[0m res_co \u001b[39m=\u001b[39m OLS(y0, xx)\u001b[39m.\u001b[39mfit()\n\u001b[1;32m   1805\u001b[0m \u001b[39mif\u001b[39;00m res_co\u001b[39m.\u001b[39mrsquared \u001b[39m<\u001b[39m \u001b[39m1\u001b[39m \u001b[39m-\u001b[39m \u001b[39m100\u001b[39m \u001b[39m*\u001b[39m SQRTEPS:\n",
            "File \u001b[0;32m/Library/Frameworks/Python.framework/Versions/3.11/lib/python3.11/site-packages/statsmodels/tsa/tsatools.py:133\u001b[0m, in \u001b[0;36madd_trend\u001b[0;34m(x, trend, prepend, has_constant)\u001b[0m\n\u001b[1;32m    131\u001b[0m     col_const \u001b[39m=\u001b[39m x\u001b[39m.\u001b[39mapply(safe_is_const, \u001b[39m0\u001b[39m)\n\u001b[1;32m    132\u001b[0m \u001b[39melse\u001b[39;00m:\n\u001b[0;32m--> 133\u001b[0m     ptp0 \u001b[39m=\u001b[39m np\u001b[39m.\u001b[39;49mptp(np\u001b[39m.\u001b[39;49masanyarray(x), axis\u001b[39m=\u001b[39;49m\u001b[39m0\u001b[39;49m)\n\u001b[1;32m    134\u001b[0m     col_is_const \u001b[39m=\u001b[39m ptp0 \u001b[39m==\u001b[39m \u001b[39m0\u001b[39m\n\u001b[1;32m    135\u001b[0m     nz_const \u001b[39m=\u001b[39m col_is_const \u001b[39m&\u001b[39m (x[\u001b[39m0\u001b[39m] \u001b[39m!=\u001b[39m \u001b[39m0\u001b[39m)\n",
            "File \u001b[0;32m/Library/Frameworks/Python.framework/Versions/3.11/lib/python3.11/site-packages/numpy/core/fromnumeric.py:2684\u001b[0m, in \u001b[0;36mptp\u001b[0;34m(a, axis, out, keepdims)\u001b[0m\n\u001b[1;32m   2682\u001b[0m     \u001b[39melse\u001b[39;00m:\n\u001b[1;32m   2683\u001b[0m         \u001b[39mreturn\u001b[39;00m ptp(axis\u001b[39m=\u001b[39maxis, out\u001b[39m=\u001b[39mout, \u001b[39m*\u001b[39m\u001b[39m*\u001b[39mkwargs)\n\u001b[0;32m-> 2684\u001b[0m \u001b[39mreturn\u001b[39;00m _methods\u001b[39m.\u001b[39;49m_ptp(a, axis\u001b[39m=\u001b[39;49maxis, out\u001b[39m=\u001b[39;49mout, \u001b[39m*\u001b[39;49m\u001b[39m*\u001b[39;49mkwargs)\n",
            "File \u001b[0;32m/Library/Frameworks/Python.framework/Versions/3.11/lib/python3.11/site-packages/numpy/core/_methods.py:220\u001b[0m, in \u001b[0;36m_ptp\u001b[0;34m(a, axis, out, keepdims)\u001b[0m\n\u001b[1;32m    218\u001b[0m \u001b[39mdef\u001b[39;00m \u001b[39m_ptp\u001b[39m(a, axis\u001b[39m=\u001b[39m\u001b[39mNone\u001b[39;00m, out\u001b[39m=\u001b[39m\u001b[39mNone\u001b[39;00m, keepdims\u001b[39m=\u001b[39m\u001b[39mFalse\u001b[39;00m):\n\u001b[1;32m    219\u001b[0m     \u001b[39mreturn\u001b[39;00m um\u001b[39m.\u001b[39msubtract(\n\u001b[0;32m--> 220\u001b[0m         umr_maximum(a, axis, \u001b[39mNone\u001b[39;00m, out, keepdims),\n\u001b[1;32m    221\u001b[0m         umr_minimum(a, axis, \u001b[39mNone\u001b[39;00m, \u001b[39mNone\u001b[39;00m, keepdims),\n\u001b[1;32m    222\u001b[0m         out\n\u001b[1;32m    223\u001b[0m     )\n",
            "\u001b[0;31mValueError\u001b[0m: zero-size array to reduction operation maximum which has no identity"
          ]
        }
      ],
      "source": [
        "pair_dict = {\n",
        "        # [ still_consecutive, [start_dates], [end_date] weeks_counted, [[days_to_open_trade]] ]\n",
        "        ('INTC', 'ORCL') : [ True, ['2000-04-4'], [], [[]] ]\n",
        "    }\n",
        "monitor_group_of_pairs(prices_with_market, pair_dict, 20)\n",
        "# We know it's working right but we are corcerned about the is_coint function elimating possible trade days?\n",
        "\n"
      ]
    }
  ],
  "metadata": {
    "colab": {
      "provenance": []
    },
    "kernelspec": {
      "display_name": "Python 3",
      "language": "python",
      "name": "python3"
    },
    "language_info": {
      "codemirror_mode": {
        "name": "ipython",
        "version": 3
      },
      "file_extension": ".py",
      "mimetype": "text/x-python",
      "name": "python",
      "nbconvert_exporter": "python",
      "pygments_lexer": "ipython3",
      "version": "3.11.5"
    },
    "orig_nbformat": 4
  },
  "nbformat": 4,
  "nbformat_minor": 0
}
